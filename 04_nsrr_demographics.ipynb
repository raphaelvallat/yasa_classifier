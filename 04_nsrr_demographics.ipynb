{
 "cells": [
  {
   "cell_type": "markdown",
   "metadata": {},
   "source": [
    "# Demographcis of the NSRR training/testing sets"
   ]
  },
  {
   "cell_type": "code",
   "execution_count": 1,
   "metadata": {},
   "outputs": [],
   "source": [
    "import os\n",
    "import glob\n",
    "import numpy as np\n",
    "import pandas as pd\n",
    "import seaborn as sns\n",
    "import pingouin as pg\n",
    "from tqdm.notebook import tqdm\n",
    "import matplotlib.pyplot as plt\n",
    "sns.set(style=\"ticks\", font_scale=1.25)\n",
    "\n",
    "from helper_functions import mean_std\n",
    "\n",
    "# Define paths\n",
    "wdir_demo = \"output/demo/\"\n",
    "outdir = \"output/plots/\""
   ]
  },
  {
   "cell_type": "markdown",
   "metadata": {},
   "source": [
    "## Data loading"
   ]
  },
  {
   "cell_type": "code",
   "execution_count": 2,
   "metadata": {},
   "outputs": [
    {
     "name": "stdout",
     "output_type": "stream",
     "text": [
      "(3881, 13)\n",
      "training    3281\n",
      "testing      600\n",
      "Name: set, dtype: int64\n"
     ]
    },
    {
     "data": {
      "text/html": [
       "<div>\n",
       "<style scoped>\n",
       "    .dataframe tbody tr th:only-of-type {\n",
       "        vertical-align: middle;\n",
       "    }\n",
       "\n",
       "    .dataframe tbody tr th {\n",
       "        vertical-align: top;\n",
       "    }\n",
       "\n",
       "    .dataframe thead th {\n",
       "        text-align: right;\n",
       "    }\n",
       "</style>\n",
       "<table border=\"1\" class=\"dataframe\">\n",
       "  <thead>\n",
       "    <tr style=\"text-align: right;\">\n",
       "      <th></th>\n",
       "      <th>dataset</th>\n",
       "      <th>subj</th>\n",
       "      <th>age</th>\n",
       "      <th>male</th>\n",
       "      <th>bmi</th>\n",
       "      <th>ahi</th>\n",
       "      <th>ethnicity</th>\n",
       "      <th>set</th>\n",
       "      <th>depression</th>\n",
       "      <th>diabete</th>\n",
       "      <th>hypertension</th>\n",
       "      <th>insomnia</th>\n",
       "      <th>narcolepsy</th>\n",
       "    </tr>\n",
       "  </thead>\n",
       "  <tbody>\n",
       "    <tr>\n",
       "      <th>0</th>\n",
       "      <td>CCSHS</td>\n",
       "      <td>1800001</td>\n",
       "      <td>17</td>\n",
       "      <td>0</td>\n",
       "      <td>19.089716</td>\n",
       "      <td>0.244898</td>\n",
       "      <td>caucasian</td>\n",
       "      <td>training</td>\n",
       "      <td>0.0</td>\n",
       "      <td>0.0</td>\n",
       "      <td>0.0</td>\n",
       "      <td>NaN</td>\n",
       "      <td>NaN</td>\n",
       "    </tr>\n",
       "    <tr>\n",
       "      <th>1</th>\n",
       "      <td>CCSHS</td>\n",
       "      <td>1800005</td>\n",
       "      <td>17</td>\n",
       "      <td>1</td>\n",
       "      <td>29.338584</td>\n",
       "      <td>0.239521</td>\n",
       "      <td>caucasian</td>\n",
       "      <td>testing</td>\n",
       "      <td>1.0</td>\n",
       "      <td>0.0</td>\n",
       "      <td>0.0</td>\n",
       "      <td>NaN</td>\n",
       "      <td>NaN</td>\n",
       "    </tr>\n",
       "    <tr>\n",
       "      <th>2</th>\n",
       "      <td>CCSHS</td>\n",
       "      <td>1800007</td>\n",
       "      <td>18</td>\n",
       "      <td>1</td>\n",
       "      <td>35.897564</td>\n",
       "      <td>1.846154</td>\n",
       "      <td>african</td>\n",
       "      <td>training</td>\n",
       "      <td>0.0</td>\n",
       "      <td>0.0</td>\n",
       "      <td>0.0</td>\n",
       "      <td>NaN</td>\n",
       "      <td>NaN</td>\n",
       "    </tr>\n",
       "    <tr>\n",
       "      <th>3</th>\n",
       "      <td>CCSHS</td>\n",
       "      <td>1800013</td>\n",
       "      <td>18</td>\n",
       "      <td>1</td>\n",
       "      <td>21.176986</td>\n",
       "      <td>0.113636</td>\n",
       "      <td>caucasian</td>\n",
       "      <td>training</td>\n",
       "      <td>0.0</td>\n",
       "      <td>0.0</td>\n",
       "      <td>0.0</td>\n",
       "      <td>NaN</td>\n",
       "      <td>NaN</td>\n",
       "    </tr>\n",
       "    <tr>\n",
       "      <th>4</th>\n",
       "      <td>CCSHS</td>\n",
       "      <td>1800014</td>\n",
       "      <td>17</td>\n",
       "      <td>0</td>\n",
       "      <td>33.587853</td>\n",
       "      <td>1.901408</td>\n",
       "      <td>african</td>\n",
       "      <td>training</td>\n",
       "      <td>0.0</td>\n",
       "      <td>0.0</td>\n",
       "      <td>0.0</td>\n",
       "      <td>NaN</td>\n",
       "      <td>NaN</td>\n",
       "    </tr>\n",
       "  </tbody>\n",
       "</table>\n",
       "</div>"
      ],
      "text/plain": [
       "  dataset     subj  age  male        bmi       ahi  ethnicity       set  \\\n",
       "0   CCSHS  1800001   17     0  19.089716  0.244898  caucasian  training   \n",
       "1   CCSHS  1800005   17     1  29.338584  0.239521  caucasian   testing   \n",
       "2   CCSHS  1800007   18     1  35.897564  1.846154    african  training   \n",
       "3   CCSHS  1800013   18     1  21.176986  0.113636  caucasian  training   \n",
       "4   CCSHS  1800014   17     0  33.587853  1.901408    african  training   \n",
       "\n",
       "   depression  diabete  hypertension  insomnia  narcolepsy  \n",
       "0         0.0      0.0           0.0       NaN         NaN  \n",
       "1         1.0      0.0           0.0       NaN         NaN  \n",
       "2         0.0      0.0           0.0       NaN         NaN  \n",
       "3         0.0      0.0           0.0       NaN         NaN  \n",
       "4         0.0      0.0           0.0       NaN         NaN  "
      ]
     },
     "execution_count": 2,
     "metadata": {},
     "output_type": "execute_result"
    }
   ],
   "source": [
    "# First, let's merge with the main demographics\n",
    "df_demo = pd.read_csv(wdir_demo + \"demo_nsrr_all.csv\")\n",
    "\n",
    "print(df_demo.shape)\n",
    "print(df_demo['set'].value_counts())\n",
    "df_demo.head()"
   ]
  },
  {
   "cell_type": "markdown",
   "metadata": {},
   "source": [
    "### Training set"
   ]
  },
  {
   "cell_type": "code",
   "execution_count": 3,
   "metadata": {
    "tags": []
   },
   "outputs": [
    {
     "name": "stdout",
     "output_type": "stream",
     "text": [
      "3163 subjects\n",
      "(3807207, 3)\n"
     ]
    },
    {
     "data": {
      "text/html": [
       "<div>\n",
       "<style scoped>\n",
       "    .dataframe tbody tr th:only-of-type {\n",
       "        vertical-align: middle;\n",
       "    }\n",
       "\n",
       "    .dataframe tbody tr th {\n",
       "        vertical-align: top;\n",
       "    }\n",
       "\n",
       "    .dataframe thead th {\n",
       "        text-align: right;\n",
       "    }\n",
       "</style>\n",
       "<table border=\"1\" class=\"dataframe\">\n",
       "  <thead>\n",
       "    <tr style=\"text-align: right;\">\n",
       "      <th></th>\n",
       "      <th>subj</th>\n",
       "      <th>epoch</th>\n",
       "      <th>age</th>\n",
       "    </tr>\n",
       "  </thead>\n",
       "  <tbody>\n",
       "    <tr>\n",
       "      <th>0</th>\n",
       "      <td>300001</td>\n",
       "      <td>0</td>\n",
       "      <td>8</td>\n",
       "    </tr>\n",
       "    <tr>\n",
       "      <th>1</th>\n",
       "      <td>300001</td>\n",
       "      <td>1</td>\n",
       "      <td>8</td>\n",
       "    </tr>\n",
       "    <tr>\n",
       "      <th>2</th>\n",
       "      <td>300001</td>\n",
       "      <td>2</td>\n",
       "      <td>8</td>\n",
       "    </tr>\n",
       "    <tr>\n",
       "      <th>3</th>\n",
       "      <td>300001</td>\n",
       "      <td>3</td>\n",
       "      <td>8</td>\n",
       "    </tr>\n",
       "    <tr>\n",
       "      <th>4</th>\n",
       "      <td>300001</td>\n",
       "      <td>4</td>\n",
       "      <td>8</td>\n",
       "    </tr>\n",
       "  </tbody>\n",
       "</table>\n",
       "</div>"
      ],
      "text/plain": [
       "     subj  epoch  age\n",
       "0  300001      0    8\n",
       "1  300001      1    8\n",
       "2  300001      2    8\n",
       "3  300001      3    8\n",
       "4  300001      4    8"
      ]
     },
     "execution_count": 3,
     "metadata": {},
     "output_type": "execute_result"
    }
   ],
   "source": [
    "df_training = pd.read_parquet(\"output/features/features_all.parquet\", columns=['age']).reset_index()\n",
    "print(df_training['subj'].nunique(), 'subjects')\n",
    "print(df_training.shape)\n",
    "df_training.head().round(2)"
   ]
  },
  {
   "cell_type": "markdown",
   "metadata": {},
   "source": [
    "### Testing set"
   ]
  },
  {
   "cell_type": "code",
   "execution_count": 4,
   "metadata": {},
   "outputs": [
    {
     "name": "stdout",
     "output_type": "stream",
     "text": [
      "585 subjects\n",
      "(716367, 14)\n"
     ]
    },
    {
     "data": {
      "text/html": [
       "<div>\n",
       "<style scoped>\n",
       "    .dataframe tbody tr th:only-of-type {\n",
       "        vertical-align: middle;\n",
       "    }\n",
       "\n",
       "    .dataframe tbody tr th {\n",
       "        vertical-align: top;\n",
       "    }\n",
       "\n",
       "    .dataframe thead th {\n",
       "        text-align: right;\n",
       "    }\n",
       "</style>\n",
       "<table border=\"1\" class=\"dataframe\">\n",
       "  <thead>\n",
       "    <tr style=\"text-align: right;\">\n",
       "      <th></th>\n",
       "      <th>subj</th>\n",
       "      <th>model</th>\n",
       "      <th>age</th>\n",
       "      <th>male</th>\n",
       "      <th>y_true</th>\n",
       "      <th>y_pred</th>\n",
       "      <th>y_pred_second</th>\n",
       "      <th>confidence</th>\n",
       "      <th>proba_N1</th>\n",
       "      <th>proba_N2</th>\n",
       "      <th>proba_N3</th>\n",
       "      <th>proba_R</th>\n",
       "      <th>proba_W</th>\n",
       "      <th>dataset</th>\n",
       "    </tr>\n",
       "  </thead>\n",
       "  <tbody>\n",
       "    <tr>\n",
       "      <th>0</th>\n",
       "      <td>300002</td>\n",
       "      <td>eeg+eog+emg+demo</td>\n",
       "      <td>9</td>\n",
       "      <td>0</td>\n",
       "      <td>W</td>\n",
       "      <td>W</td>\n",
       "      <td>N1</td>\n",
       "      <td>0.99</td>\n",
       "      <td>0.01</td>\n",
       "      <td>0.0</td>\n",
       "      <td>0.0</td>\n",
       "      <td>0.0</td>\n",
       "      <td>0.99</td>\n",
       "      <td>CHAT</td>\n",
       "    </tr>\n",
       "    <tr>\n",
       "      <th>1</th>\n",
       "      <td>300002</td>\n",
       "      <td>eeg+eog+emg+demo</td>\n",
       "      <td>9</td>\n",
       "      <td>0</td>\n",
       "      <td>W</td>\n",
       "      <td>W</td>\n",
       "      <td>N1</td>\n",
       "      <td>1.00</td>\n",
       "      <td>0.00</td>\n",
       "      <td>0.0</td>\n",
       "      <td>0.0</td>\n",
       "      <td>0.0</td>\n",
       "      <td>1.00</td>\n",
       "      <td>CHAT</td>\n",
       "    </tr>\n",
       "    <tr>\n",
       "      <th>2</th>\n",
       "      <td>300002</td>\n",
       "      <td>eeg+eog+emg+demo</td>\n",
       "      <td>9</td>\n",
       "      <td>0</td>\n",
       "      <td>W</td>\n",
       "      <td>W</td>\n",
       "      <td>N1</td>\n",
       "      <td>1.00</td>\n",
       "      <td>0.00</td>\n",
       "      <td>0.0</td>\n",
       "      <td>0.0</td>\n",
       "      <td>0.0</td>\n",
       "      <td>1.00</td>\n",
       "      <td>CHAT</td>\n",
       "    </tr>\n",
       "    <tr>\n",
       "      <th>3</th>\n",
       "      <td>300002</td>\n",
       "      <td>eeg+eog+emg+demo</td>\n",
       "      <td>9</td>\n",
       "      <td>0</td>\n",
       "      <td>W</td>\n",
       "      <td>W</td>\n",
       "      <td>N1</td>\n",
       "      <td>1.00</td>\n",
       "      <td>0.00</td>\n",
       "      <td>0.0</td>\n",
       "      <td>0.0</td>\n",
       "      <td>0.0</td>\n",
       "      <td>1.00</td>\n",
       "      <td>CHAT</td>\n",
       "    </tr>\n",
       "    <tr>\n",
       "      <th>4</th>\n",
       "      <td>300002</td>\n",
       "      <td>eeg+eog+emg+demo</td>\n",
       "      <td>9</td>\n",
       "      <td>0</td>\n",
       "      <td>W</td>\n",
       "      <td>W</td>\n",
       "      <td>N1</td>\n",
       "      <td>1.00</td>\n",
       "      <td>0.00</td>\n",
       "      <td>0.0</td>\n",
       "      <td>0.0</td>\n",
       "      <td>0.0</td>\n",
       "      <td>1.00</td>\n",
       "      <td>CHAT</td>\n",
       "    </tr>\n",
       "  </tbody>\n",
       "</table>\n",
       "</div>"
      ],
      "text/plain": [
       "     subj             model  age  male y_true y_pred y_pred_second  \\\n",
       "0  300002  eeg+eog+emg+demo    9     0      W      W            N1   \n",
       "1  300002  eeg+eog+emg+demo    9     0      W      W            N1   \n",
       "2  300002  eeg+eog+emg+demo    9     0      W      W            N1   \n",
       "3  300002  eeg+eog+emg+demo    9     0      W      W            N1   \n",
       "4  300002  eeg+eog+emg+demo    9     0      W      W            N1   \n",
       "\n",
       "   confidence  proba_N1  proba_N2  proba_N3  proba_R  proba_W dataset  \n",
       "0        0.99      0.01       0.0       0.0      0.0     0.99    CHAT  \n",
       "1        1.00      0.00       0.0       0.0      0.0     1.00    CHAT  \n",
       "2        1.00      0.00       0.0       0.0      0.0     1.00    CHAT  \n",
       "3        1.00      0.00       0.0       0.0      0.0     1.00    CHAT  \n",
       "4        1.00      0.00       0.0       0.0      0.0     1.00    CHAT  "
      ]
     },
     "execution_count": 4,
     "metadata": {},
     "output_type": "execute_result"
    }
   ],
   "source": [
    "# Choose model\n",
    "model = \"eeg+eog+emg+demo\"\n",
    "feat_files = glob.glob(\"output/cv/%s/cv_loo_nsrr_*.parquet\" % model)\n",
    "\n",
    "df_testing = []\n",
    "for f in feat_files:\n",
    "    df_testing.append(pd.read_parquet(f))\n",
    "    \n",
    "df_testing = pd.concat(df_testing)\n",
    "df_testing['subj'] = df_testing['subj'].astype(str)\n",
    "df_testing['dataset'] = df_testing['dataset'].str.upper()\n",
    "\n",
    "print(df_testing['subj'].nunique(), 'subjects')\n",
    "print(df_testing.shape)\n",
    "df_testing.head().round(2)"
   ]
  },
  {
   "cell_type": "code",
   "execution_count": 5,
   "metadata": {},
   "outputs": [
    {
     "data": {
      "text/html": [
       "<div>\n",
       "<style scoped>\n",
       "    .dataframe tbody tr th:only-of-type {\n",
       "        vertical-align: middle;\n",
       "    }\n",
       "\n",
       "    .dataframe tbody tr th {\n",
       "        vertical-align: top;\n",
       "    }\n",
       "\n",
       "    .dataframe thead th {\n",
       "        text-align: right;\n",
       "    }\n",
       "</style>\n",
       "<table border=\"1\" class=\"dataframe\">\n",
       "  <thead>\n",
       "    <tr style=\"text-align: right;\">\n",
       "      <th></th>\n",
       "      <th>dataset</th>\n",
       "      <th>subj</th>\n",
       "      <th>age</th>\n",
       "      <th>male</th>\n",
       "      <th>bmi</th>\n",
       "      <th>ahi</th>\n",
       "      <th>ethnicity</th>\n",
       "      <th>set</th>\n",
       "      <th>depression</th>\n",
       "      <th>diabete</th>\n",
       "      <th>hypertension</th>\n",
       "      <th>insomnia</th>\n",
       "      <th>narcolepsy</th>\n",
       "      <th>apnea</th>\n",
       "    </tr>\n",
       "  </thead>\n",
       "  <tbody>\n",
       "    <tr>\n",
       "      <th>0</th>\n",
       "      <td>CCSHS</td>\n",
       "      <td>1800001</td>\n",
       "      <td>17</td>\n",
       "      <td>0</td>\n",
       "      <td>19.09</td>\n",
       "      <td>0.24</td>\n",
       "      <td>caucasian</td>\n",
       "      <td>training</td>\n",
       "      <td>0.0</td>\n",
       "      <td>0.0</td>\n",
       "      <td>0.0</td>\n",
       "      <td>NaN</td>\n",
       "      <td>NaN</td>\n",
       "      <td>None</td>\n",
       "    </tr>\n",
       "    <tr>\n",
       "      <th>1</th>\n",
       "      <td>CCSHS</td>\n",
       "      <td>1800005</td>\n",
       "      <td>17</td>\n",
       "      <td>1</td>\n",
       "      <td>29.34</td>\n",
       "      <td>0.24</td>\n",
       "      <td>caucasian</td>\n",
       "      <td>testing</td>\n",
       "      <td>1.0</td>\n",
       "      <td>0.0</td>\n",
       "      <td>0.0</td>\n",
       "      <td>NaN</td>\n",
       "      <td>NaN</td>\n",
       "      <td>None</td>\n",
       "    </tr>\n",
       "    <tr>\n",
       "      <th>2</th>\n",
       "      <td>CCSHS</td>\n",
       "      <td>1800007</td>\n",
       "      <td>18</td>\n",
       "      <td>1</td>\n",
       "      <td>35.90</td>\n",
       "      <td>1.85</td>\n",
       "      <td>african</td>\n",
       "      <td>training</td>\n",
       "      <td>0.0</td>\n",
       "      <td>0.0</td>\n",
       "      <td>0.0</td>\n",
       "      <td>NaN</td>\n",
       "      <td>NaN</td>\n",
       "      <td>None</td>\n",
       "    </tr>\n",
       "    <tr>\n",
       "      <th>3</th>\n",
       "      <td>CCSHS</td>\n",
       "      <td>1800013</td>\n",
       "      <td>18</td>\n",
       "      <td>1</td>\n",
       "      <td>21.18</td>\n",
       "      <td>0.11</td>\n",
       "      <td>caucasian</td>\n",
       "      <td>training</td>\n",
       "      <td>0.0</td>\n",
       "      <td>0.0</td>\n",
       "      <td>0.0</td>\n",
       "      <td>NaN</td>\n",
       "      <td>NaN</td>\n",
       "      <td>None</td>\n",
       "    </tr>\n",
       "    <tr>\n",
       "      <th>4</th>\n",
       "      <td>CCSHS</td>\n",
       "      <td>1800014</td>\n",
       "      <td>17</td>\n",
       "      <td>0</td>\n",
       "      <td>33.59</td>\n",
       "      <td>1.90</td>\n",
       "      <td>african</td>\n",
       "      <td>training</td>\n",
       "      <td>0.0</td>\n",
       "      <td>0.0</td>\n",
       "      <td>0.0</td>\n",
       "      <td>NaN</td>\n",
       "      <td>NaN</td>\n",
       "      <td>None</td>\n",
       "    </tr>\n",
       "    <tr>\n",
       "      <th>...</th>\n",
       "      <td>...</td>\n",
       "      <td>...</td>\n",
       "      <td>...</td>\n",
       "      <td>...</td>\n",
       "      <td>...</td>\n",
       "      <td>...</td>\n",
       "      <td>...</td>\n",
       "      <td>...</td>\n",
       "      <td>...</td>\n",
       "      <td>...</td>\n",
       "      <td>...</td>\n",
       "      <td>...</td>\n",
       "      <td>...</td>\n",
       "      <td>...</td>\n",
       "    </tr>\n",
       "    <tr>\n",
       "      <th>3743</th>\n",
       "      <td>SHHS</td>\n",
       "      <td>205792</td>\n",
       "      <td>55</td>\n",
       "      <td>1</td>\n",
       "      <td>37.39</td>\n",
       "      <td>25.10</td>\n",
       "      <td>caucasian</td>\n",
       "      <td>training</td>\n",
       "      <td>NaN</td>\n",
       "      <td>0.0</td>\n",
       "      <td>1.0</td>\n",
       "      <td>NaN</td>\n",
       "      <td>NaN</td>\n",
       "      <td>Moderate</td>\n",
       "    </tr>\n",
       "    <tr>\n",
       "      <th>3744</th>\n",
       "      <td>SHHS</td>\n",
       "      <td>205794</td>\n",
       "      <td>65</td>\n",
       "      <td>0</td>\n",
       "      <td>22.31</td>\n",
       "      <td>3.26</td>\n",
       "      <td>caucasian</td>\n",
       "      <td>training</td>\n",
       "      <td>NaN</td>\n",
       "      <td>0.0</td>\n",
       "      <td>0.0</td>\n",
       "      <td>NaN</td>\n",
       "      <td>NaN</td>\n",
       "      <td>None</td>\n",
       "    </tr>\n",
       "    <tr>\n",
       "      <th>3745</th>\n",
       "      <td>SHHS</td>\n",
       "      <td>205799</td>\n",
       "      <td>54</td>\n",
       "      <td>0</td>\n",
       "      <td>32.41</td>\n",
       "      <td>3.29</td>\n",
       "      <td>caucasian</td>\n",
       "      <td>training</td>\n",
       "      <td>NaN</td>\n",
       "      <td>0.0</td>\n",
       "      <td>0.0</td>\n",
       "      <td>NaN</td>\n",
       "      <td>NaN</td>\n",
       "      <td>None</td>\n",
       "    </tr>\n",
       "    <tr>\n",
       "      <th>3746</th>\n",
       "      <td>SHHS</td>\n",
       "      <td>205800</td>\n",
       "      <td>66</td>\n",
       "      <td>1</td>\n",
       "      <td>25.69</td>\n",
       "      <td>53.54</td>\n",
       "      <td>caucasian</td>\n",
       "      <td>training</td>\n",
       "      <td>NaN</td>\n",
       "      <td>0.0</td>\n",
       "      <td>0.0</td>\n",
       "      <td>NaN</td>\n",
       "      <td>NaN</td>\n",
       "      <td>Severe</td>\n",
       "    </tr>\n",
       "    <tr>\n",
       "      <th>3747</th>\n",
       "      <td>SHHS</td>\n",
       "      <td>205801</td>\n",
       "      <td>54</td>\n",
       "      <td>1</td>\n",
       "      <td>26.73</td>\n",
       "      <td>22.45</td>\n",
       "      <td>caucasian</td>\n",
       "      <td>testing</td>\n",
       "      <td>NaN</td>\n",
       "      <td>0.0</td>\n",
       "      <td>0.0</td>\n",
       "      <td>NaN</td>\n",
       "      <td>NaN</td>\n",
       "      <td>Moderate</td>\n",
       "    </tr>\n",
       "  </tbody>\n",
       "</table>\n",
       "<p>3748 rows × 14 columns</p>\n",
       "</div>"
      ],
      "text/plain": [
       "     dataset     subj  age  male    bmi    ahi  ethnicity       set  \\\n",
       "0      CCSHS  1800001   17     0  19.09   0.24  caucasian  training   \n",
       "1      CCSHS  1800005   17     1  29.34   0.24  caucasian   testing   \n",
       "2      CCSHS  1800007   18     1  35.90   1.85    african  training   \n",
       "3      CCSHS  1800013   18     1  21.18   0.11  caucasian  training   \n",
       "4      CCSHS  1800014   17     0  33.59   1.90    african  training   \n",
       "...      ...      ...  ...   ...    ...    ...        ...       ...   \n",
       "3743    SHHS   205792   55     1  37.39  25.10  caucasian  training   \n",
       "3744    SHHS   205794   65     0  22.31   3.26  caucasian  training   \n",
       "3745    SHHS   205799   54     0  32.41   3.29  caucasian  training   \n",
       "3746    SHHS   205800   66     1  25.69  53.54  caucasian  training   \n",
       "3747    SHHS   205801   54     1  26.73  22.45  caucasian   testing   \n",
       "\n",
       "      depression  diabete  hypertension  insomnia  narcolepsy     apnea  \n",
       "0            0.0      0.0           0.0       NaN         NaN      None  \n",
       "1            1.0      0.0           0.0       NaN         NaN      None  \n",
       "2            0.0      0.0           0.0       NaN         NaN      None  \n",
       "3            0.0      0.0           0.0       NaN         NaN      None  \n",
       "4            0.0      0.0           0.0       NaN         NaN      None  \n",
       "...          ...      ...           ...       ...         ...       ...  \n",
       "3743         NaN      0.0           1.0       NaN         NaN  Moderate  \n",
       "3744         NaN      0.0           0.0       NaN         NaN      None  \n",
       "3745         NaN      0.0           0.0       NaN         NaN      None  \n",
       "3746         NaN      0.0           0.0       NaN         NaN    Severe  \n",
       "3747         NaN      0.0           0.0       NaN         NaN  Moderate  \n",
       "\n",
       "[3748 rows x 14 columns]"
      ]
     },
     "execution_count": 5,
     "metadata": {},
     "output_type": "execute_result"
    }
   ],
   "source": [
    "# Keep index of subjects included in the training/testing set\n",
    "idx_training = df_training['subj'].unique().tolist()\n",
    "idx_testing = df_testing['subj'].unique().tolist()\n",
    "df_demo = df_demo[df_demo['subj'].isin(idx_training + idx_testing)].reset_index(drop=True)\n",
    "\n",
    "# Add apnea severity\n",
    "df_demo['apnea'] = pd.cut(\n",
    "    df_demo['ahi'], bins=[0, 5, 15, 30, np.inf], right=False, include_lowest=True, \n",
    "    labels=[\"None\", \"Mild\", \"Moderate\", \"Severe\"])\n",
    "\n",
    "df_demo.round(2)"
   ]
  },
  {
   "cell_type": "code",
   "execution_count": 6,
   "metadata": {},
   "outputs": [],
   "source": [
    "# Optional: remove HOMEPAP\n",
    "# df_demo = df_demo[~df_demo['dataset'].isin(['HOMEPAP'])].reset_index(drop=True)"
   ]
  },
  {
   "cell_type": "markdown",
   "metadata": {},
   "source": [
    "********\n",
    "\n",
    "## Descriptive statistics"
   ]
  },
  {
   "cell_type": "code",
   "execution_count": 7,
   "metadata": {},
   "outputs": [],
   "source": [
    "grp_set = df_demo.groupby(\"set\")"
   ]
  },
  {
   "cell_type": "markdown",
   "metadata": {},
   "source": [
    "### Continuous variable"
   ]
  },
  {
   "cell_type": "code",
   "execution_count": 8,
   "metadata": {},
   "outputs": [
    {
     "data": {
      "text/plain": [
       "set\n",
       "testing      585\n",
       "training    3163\n",
       "Name: age, dtype: int64"
      ]
     },
     "execution_count": 8,
     "metadata": {},
     "output_type": "execute_result"
    }
   ],
   "source": [
    "# Number of nights\n",
    "grp_set['age'].count()"
   ]
  },
  {
   "cell_type": "code",
   "execution_count": 9,
   "metadata": {},
   "outputs": [
    {
     "data": {
      "text/html": [
       "<div>\n",
       "<style scoped>\n",
       "    .dataframe tbody tr th:only-of-type {\n",
       "        vertical-align: middle;\n",
       "    }\n",
       "\n",
       "    .dataframe tbody tr th {\n",
       "        vertical-align: top;\n",
       "    }\n",
       "\n",
       "    .dataframe thead th {\n",
       "        text-align: right;\n",
       "    }\n",
       "</style>\n",
       "<table border=\"1\" class=\"dataframe\">\n",
       "  <thead>\n",
       "    <tr style=\"text-align: right;\">\n",
       "      <th>set</th>\n",
       "      <th>testing</th>\n",
       "      <th>training</th>\n",
       "      <th>T</th>\n",
       "      <th>dof</th>\n",
       "      <th>p-unc</th>\n",
       "      <th>hedges</th>\n",
       "    </tr>\n",
       "  </thead>\n",
       "  <tbody>\n",
       "    <tr>\n",
       "      <th>age</th>\n",
       "      <td>45.25 ± 28.18</td>\n",
       "      <td>49.79 ± 26.38</td>\n",
       "      <td>-3.617</td>\n",
       "      <td>784.940</td>\n",
       "      <td>0.000</td>\n",
       "      <td>-0.170</td>\n",
       "    </tr>\n",
       "    <tr>\n",
       "      <th>bmi</th>\n",
       "      <td>26.83 ± 7.30</td>\n",
       "      <td>27.65 ± 7.40</td>\n",
       "      <td>-2.497</td>\n",
       "      <td>819.740</td>\n",
       "      <td>0.013</td>\n",
       "      <td>-0.111</td>\n",
       "    </tr>\n",
       "    <tr>\n",
       "      <th>ahi</th>\n",
       "      <td>11.99 ± 14.99</td>\n",
       "      <td>12.94 ± 16.35</td>\n",
       "      <td>-1.386</td>\n",
       "      <td>861.583</td>\n",
       "      <td>0.166</td>\n",
       "      <td>-0.059</td>\n",
       "    </tr>\n",
       "  </tbody>\n",
       "</table>\n",
       "</div>"
      ],
      "text/plain": [
       "set        testing       training      T      dof  p-unc  hedges\n",
       "age  45.25 ± 28.18  49.79 ± 26.38 -3.617  784.940  0.000  -0.170\n",
       "bmi   26.83 ± 7.30   27.65 ± 7.40 -2.497  819.740  0.013  -0.111\n",
       "ahi  11.99 ± 14.99  12.94 ± 16.35 -1.386  861.583  0.166  -0.059"
      ]
     },
     "execution_count": 9,
     "metadata": {},
     "output_type": "execute_result"
    }
   ],
   "source": [
    "table_desc = grp_set[['age', 'bmi', 'ahi']].agg(mean_std).T\n",
    "\n",
    "for dv in table_desc.index:\n",
    "    tt = df_demo.pairwise_ttests(dv=dv, between=\"set\")\n",
    "    table_desc.loc[dv, 'T'] = tt.loc[0, 'T']\n",
    "    table_desc.loc[dv, 'dof'] = tt.loc[0, 'dof']\n",
    "    table_desc.loc[dv, 'p-unc'] = tt.loc[0, 'p-unc']\n",
    "    table_desc.loc[dv, 'hedges'] = tt.loc[0, 'hedges']\n",
    "\n",
    "table_desc.round(3)"
   ]
  },
  {
   "cell_type": "markdown",
   "metadata": {},
   "source": [
    "#### Age"
   ]
  },
  {
   "cell_type": "code",
   "execution_count": 10,
   "metadata": {},
   "outputs": [
    {
     "data": {
      "text/html": [
       "<div>\n",
       "<style scoped>\n",
       "    .dataframe tbody tr th:only-of-type {\n",
       "        vertical-align: middle;\n",
       "    }\n",
       "\n",
       "    .dataframe tbody tr th {\n",
       "        vertical-align: top;\n",
       "    }\n",
       "\n",
       "    .dataframe thead th {\n",
       "        text-align: right;\n",
       "    }\n",
       "</style>\n",
       "<table border=\"1\" class=\"dataframe\">\n",
       "  <thead>\n",
       "    <tr style=\"text-align: right;\">\n",
       "      <th></th>\n",
       "      <th></th>\n",
       "      <th>mean</th>\n",
       "      <th>std</th>\n",
       "      <th>min</th>\n",
       "      <th>max</th>\n",
       "    </tr>\n",
       "    <tr>\n",
       "      <th>set</th>\n",
       "      <th>dataset</th>\n",
       "      <th></th>\n",
       "      <th></th>\n",
       "      <th></th>\n",
       "      <th></th>\n",
       "    </tr>\n",
       "  </thead>\n",
       "  <tbody>\n",
       "    <tr>\n",
       "      <th rowspan=\"6\" valign=\"top\">testing</th>\n",
       "      <th>CCSHS</th>\n",
       "      <td>17.77</td>\n",
       "      <td>0.53</td>\n",
       "      <td>17</td>\n",
       "      <td>19</td>\n",
       "    </tr>\n",
       "    <tr>\n",
       "      <th>CFS</th>\n",
       "      <td>41.40</td>\n",
       "      <td>19.12</td>\n",
       "      <td>11</td>\n",
       "      <td>79</td>\n",
       "    </tr>\n",
       "    <tr>\n",
       "      <th>CHAT</th>\n",
       "      <td>6.65</td>\n",
       "      <td>1.49</td>\n",
       "      <td>5</td>\n",
       "      <td>10</td>\n",
       "    </tr>\n",
       "    <tr>\n",
       "      <th>MESA</th>\n",
       "      <td>70.01</td>\n",
       "      <td>9.30</td>\n",
       "      <td>56</td>\n",
       "      <td>90</td>\n",
       "    </tr>\n",
       "    <tr>\n",
       "      <th>MROS</th>\n",
       "      <td>76.23</td>\n",
       "      <td>5.53</td>\n",
       "      <td>69</td>\n",
       "      <td>90</td>\n",
       "    </tr>\n",
       "    <tr>\n",
       "      <th>SHHS</th>\n",
       "      <td>63.42</td>\n",
       "      <td>11.06</td>\n",
       "      <td>42</td>\n",
       "      <td>87</td>\n",
       "    </tr>\n",
       "    <tr>\n",
       "      <th rowspan=\"7\" valign=\"top\">training</th>\n",
       "      <th>CCSHS</th>\n",
       "      <td>17.75</td>\n",
       "      <td>0.57</td>\n",
       "      <td>16</td>\n",
       "      <td>20</td>\n",
       "    </tr>\n",
       "    <tr>\n",
       "      <th>CFS</th>\n",
       "      <td>41.14</td>\n",
       "      <td>19.35</td>\n",
       "      <td>7</td>\n",
       "      <td>89</td>\n",
       "    </tr>\n",
       "    <tr>\n",
       "      <th>CHAT</th>\n",
       "      <td>6.55</td>\n",
       "      <td>1.39</td>\n",
       "      <td>5</td>\n",
       "      <td>10</td>\n",
       "    </tr>\n",
       "    <tr>\n",
       "      <th>HOMEPAP</th>\n",
       "      <td>47.11</td>\n",
       "      <td>11.94</td>\n",
       "      <td>20</td>\n",
       "      <td>80</td>\n",
       "    </tr>\n",
       "    <tr>\n",
       "      <th>MESA</th>\n",
       "      <td>68.93</td>\n",
       "      <td>9.04</td>\n",
       "      <td>55</td>\n",
       "      <td>93</td>\n",
       "    </tr>\n",
       "    <tr>\n",
       "      <th>MROS</th>\n",
       "      <td>76.18</td>\n",
       "      <td>5.41</td>\n",
       "      <td>67</td>\n",
       "      <td>90</td>\n",
       "    </tr>\n",
       "    <tr>\n",
       "      <th>SHHS</th>\n",
       "      <td>63.05</td>\n",
       "      <td>11.06</td>\n",
       "      <td>40</td>\n",
       "      <td>90</td>\n",
       "    </tr>\n",
       "  </tbody>\n",
       "</table>\n",
       "</div>"
      ],
      "text/plain": [
       "                   mean    std  min  max\n",
       "set      dataset                        \n",
       "testing  CCSHS    17.77   0.53   17   19\n",
       "         CFS      41.40  19.12   11   79\n",
       "         CHAT      6.65   1.49    5   10\n",
       "         MESA     70.01   9.30   56   90\n",
       "         MROS     76.23   5.53   69   90\n",
       "         SHHS     63.42  11.06   42   87\n",
       "training CCSHS    17.75   0.57   16   20\n",
       "         CFS      41.14  19.35    7   89\n",
       "         CHAT      6.55   1.39    5   10\n",
       "         HOMEPAP  47.11  11.94   20   80\n",
       "         MESA     68.93   9.04   55   93\n",
       "         MROS     76.18   5.41   67   90\n",
       "         SHHS     63.05  11.06   40   90"
      ]
     },
     "metadata": {},
     "output_type": "display_data"
    },
    {
     "data": {
      "image/png": "[encoded data removed]",
      "text/plain": [
       "<Figure size 576x324 with 2 Axes>"
      ]
     },
     "metadata": {},
     "output_type": "display_data"
    }
   ],
   "source": [
    "display(df_demo.groupby(['set', 'dataset'])['age'].agg(['mean', 'std', 'min', 'max']).round(2))\n",
    "\n",
    "\n",
    "fig, (ax1, ax2) = plt.subplots(1, 2, figsize=(8, 4.5), sharey=True, sharex=True)\n",
    "sns.histplot(df_demo[df_demo['set'] == 'training']['age'], \n",
    "             bins=np.linspace(0, 100, 11), stat='probability', alpha=0.95, ax=ax1)\n",
    "sns.histplot(df_demo[df_demo['set'] == 'testing']['age'], \n",
    "             bins=np.linspace(0, 100, 11), stat='probability', alpha=0.95, ax=ax2)\n",
    "\n",
    "ax1.set_xlabel(\"Age (yrs)\")\n",
    "ax2.set_xlabel(\"Age (yrs)\")\n",
    "\n",
    "ax1.set_title(\"Training set\")\n",
    "ax2.set_title(\"Testing set\")\n",
    "\n",
    "plt.xlim(0, 100)\n",
    "plt.xticks([0, 20, 40, 60, 80, 100])\n",
    "\n",
    "sns.despine()\n",
    "\n",
    "plt.savefig(outdir + \"hist_age.png\", dpi=300, bbox_inches=\"tight\")"
   ]
  },
  {
   "cell_type": "markdown",
   "metadata": {},
   "source": [
    "#### AHI"
   ]
  },
  {
   "cell_type": "code",
   "execution_count": 11,
   "metadata": {},
   "outputs": [
    {
     "data": {
      "text/html": [
       "<div>\n",
       "<style scoped>\n",
       "    .dataframe tbody tr th:only-of-type {\n",
       "        vertical-align: middle;\n",
       "    }\n",
       "\n",
       "    .dataframe tbody tr th {\n",
       "        vertical-align: top;\n",
       "    }\n",
       "\n",
       "    .dataframe thead th {\n",
       "        text-align: right;\n",
       "    }\n",
       "</style>\n",
       "<table border=\"1\" class=\"dataframe\">\n",
       "  <thead>\n",
       "    <tr style=\"text-align: right;\">\n",
       "      <th></th>\n",
       "      <th></th>\n",
       "      <th>mean</th>\n",
       "      <th>std</th>\n",
       "      <th>min</th>\n",
       "      <th>max</th>\n",
       "    </tr>\n",
       "    <tr>\n",
       "      <th>set</th>\n",
       "      <th>dataset</th>\n",
       "      <th></th>\n",
       "      <th></th>\n",
       "      <th></th>\n",
       "      <th></th>\n",
       "    </tr>\n",
       "  </thead>\n",
       "  <tbody>\n",
       "    <tr>\n",
       "      <th rowspan=\"6\" valign=\"top\">testing</th>\n",
       "      <th>CCSHS</th>\n",
       "      <td>1.35</td>\n",
       "      <td>2.63</td>\n",
       "      <td>0.00</td>\n",
       "      <td>19.49</td>\n",
       "    </tr>\n",
       "    <tr>\n",
       "      <th>CFS</th>\n",
       "      <td>10.65</td>\n",
       "      <td>16.99</td>\n",
       "      <td>0.00</td>\n",
       "      <td>102.65</td>\n",
       "    </tr>\n",
       "    <tr>\n",
       "      <th>CHAT</th>\n",
       "      <td>6.88</td>\n",
       "      <td>5.55</td>\n",
       "      <td>1.40</td>\n",
       "      <td>29.33</td>\n",
       "    </tr>\n",
       "    <tr>\n",
       "      <th>MESA</th>\n",
       "      <td>21.93</td>\n",
       "      <td>20.18</td>\n",
       "      <td>0.00</td>\n",
       "      <td>110.33</td>\n",
       "    </tr>\n",
       "    <tr>\n",
       "      <th>MROS</th>\n",
       "      <td>17.41</td>\n",
       "      <td>14.35</td>\n",
       "      <td>0.00</td>\n",
       "      <td>71.00</td>\n",
       "    </tr>\n",
       "    <tr>\n",
       "      <th>SHHS</th>\n",
       "      <td>14.57</td>\n",
       "      <td>12.28</td>\n",
       "      <td>0.18</td>\n",
       "      <td>59.40</td>\n",
       "    </tr>\n",
       "    <tr>\n",
       "      <th rowspan=\"7\" valign=\"top\">training</th>\n",
       "      <th>CCSHS</th>\n",
       "      <td>1.48</td>\n",
       "      <td>5.23</td>\n",
       "      <td>0.00</td>\n",
       "      <td>99.13</td>\n",
       "    </tr>\n",
       "    <tr>\n",
       "      <th>CFS</th>\n",
       "      <td>13.44</td>\n",
       "      <td>20.65</td>\n",
       "      <td>0.00</td>\n",
       "      <td>125.07</td>\n",
       "    </tr>\n",
       "    <tr>\n",
       "      <th>CHAT</th>\n",
       "      <td>6.76</td>\n",
       "      <td>5.84</td>\n",
       "      <td>0.17</td>\n",
       "      <td>32.43</td>\n",
       "    </tr>\n",
       "    <tr>\n",
       "      <th>HOMEPAP</th>\n",
       "      <td>15.99</td>\n",
       "      <td>19.93</td>\n",
       "      <td>0.32</td>\n",
       "      <td>90.20</td>\n",
       "    </tr>\n",
       "    <tr>\n",
       "      <th>MESA</th>\n",
       "      <td>19.24</td>\n",
       "      <td>18.09</td>\n",
       "      <td>0.00</td>\n",
       "      <td>111.28</td>\n",
       "    </tr>\n",
       "    <tr>\n",
       "      <th>MROS</th>\n",
       "      <td>16.80</td>\n",
       "      <td>14.95</td>\n",
       "      <td>0.00</td>\n",
       "      <td>76.00</td>\n",
       "    </tr>\n",
       "    <tr>\n",
       "      <th>SHHS</th>\n",
       "      <td>13.90</td>\n",
       "      <td>14.63</td>\n",
       "      <td>0.00</td>\n",
       "      <td>70.89</td>\n",
       "    </tr>\n",
       "  </tbody>\n",
       "</table>\n",
       "</div>"
      ],
      "text/plain": [
       "                   mean    std   min     max\n",
       "set      dataset                            \n",
       "testing  CCSHS     1.35   2.63  0.00   19.49\n",
       "         CFS      10.65  16.99  0.00  102.65\n",
       "         CHAT      6.88   5.55  1.40   29.33\n",
       "         MESA     21.93  20.18  0.00  110.33\n",
       "         MROS     17.41  14.35  0.00   71.00\n",
       "         SHHS     14.57  12.28  0.18   59.40\n",
       "training CCSHS     1.48   5.23  0.00   99.13\n",
       "         CFS      13.44  20.65  0.00  125.07\n",
       "         CHAT      6.76   5.84  0.17   32.43\n",
       "         HOMEPAP  15.99  19.93  0.32   90.20\n",
       "         MESA     19.24  18.09  0.00  111.28\n",
       "         MROS     16.80  14.95  0.00   76.00\n",
       "         SHHS     13.90  14.63  0.00   70.89"
      ]
     },
     "execution_count": 11,
     "metadata": {},
     "output_type": "execute_result"
    }
   ],
   "source": [
    "df_demo.groupby(['set', 'dataset'])['ahi'].agg(['mean', 'std', 'min', 'max']).round(2)"
   ]
  },
  {
   "cell_type": "markdown",
   "metadata": {},
   "source": [
    "### Categorical variables"
   ]
  },
  {
   "cell_type": "code",
   "execution_count": 12,
   "metadata": {},
   "outputs": [],
   "source": [
    "def value_counts_chi2(dv, normalize=True):\n",
    "    \"\"\"Show value counts and chi-square test.\n",
    "    \n",
    "    NaN values are droppped by chi2_independence (see pd.crosstab)\"\"\"\n",
    "    if normalize:\n",
    "        display(100 * grp_set[dv].value_counts(normalize=normalize, sort=False).round(5))\n",
    "    else:\n",
    "        display(grp_set[dv].value_counts(sort=False).round(5))\n",
    "    print(\"\")\n",
    "    display(pg.chi2_independence(df_demo, x=dv, y='set', correction=True)[2].iloc[0, :])"
   ]
  },
  {
   "cell_type": "code",
   "execution_count": 13,
   "metadata": {},
   "outputs": [
    {
     "data": {
      "text/plain": [
       "set       male\n",
       "testing   0       44.615\n",
       "          1       55.385\n",
       "training  0       43.440\n",
       "          1       56.560\n",
       "Name: male, dtype: float64"
      ]
     },
     "metadata": {},
     "output_type": "display_data"
    },
    {
     "name": "stdout",
     "output_type": "stream",
     "text": [
      "\n"
     ]
    },
    {
     "data": {
      "text/plain": [
       "test       pearson\n",
       "lambda         1.0\n",
       "chi2      0.231695\n",
       "dof            1.0\n",
       "pval       0.63027\n",
       "cramer    0.007862\n",
       "power     0.076938\n",
       "Name: 0, dtype: object"
      ]
     },
     "metadata": {},
     "output_type": "display_data"
    }
   ],
   "source": [
    "# Sex and chi2-test\n",
    "value_counts_chi2(\"male\")"
   ]
  },
  {
   "cell_type": "code",
   "execution_count": 14,
   "metadata": {},
   "outputs": [
    {
     "data": {
      "text/plain": [
       "set       ethnicity\n",
       "testing   african      29.231\n",
       "          caucasian    58.462\n",
       "          hispanic      6.838\n",
       "          other         5.470\n",
       "training  african      29.466\n",
       "          caucasian    57.920\n",
       "          hispanic      7.240\n",
       "          other         5.375\n",
       "Name: ethnicity, dtype: float64"
      ]
     },
     "metadata": {},
     "output_type": "display_data"
    },
    {
     "name": "stdout",
     "output_type": "stream",
     "text": [
      "\n"
     ]
    },
    {
     "data": {
      "text/plain": [
       "test       pearson\n",
       "lambda         1.0\n",
       "chi2      0.153949\n",
       "dof            3.0\n",
       "pval      0.984657\n",
       "cramer    0.006409\n",
       "power     0.059178\n",
       "Name: 0, dtype: object"
      ]
     },
     "metadata": {},
     "output_type": "display_data"
    }
   ],
   "source": [
    "# Ethnicity\n",
    "value_counts_chi2(\"ethnicity\")"
   ]
  },
  {
   "cell_type": "code",
   "execution_count": 15,
   "metadata": {},
   "outputs": [
    {
     "data": {
      "text/plain": [
       "set       dataset\n",
       "testing   CCSHS      17.094\n",
       "          CFS        16.923\n",
       "          CHAT       17.094\n",
       "          MESA       16.581\n",
       "          MROS       15.385\n",
       "          SHHS       16.923\n",
       "training  CCSHS      13.089\n",
       "          CFS        18.527\n",
       "          CHAT       11.097\n",
       "          HOMEPAP     2.592\n",
       "          MESA       18.179\n",
       "          MROS       17.863\n",
       "          SHHS       18.653\n",
       "Name: dataset, dtype: float64"
      ]
     },
     "metadata": {},
     "output_type": "display_data"
    },
    {
     "name": "stdout",
     "output_type": "stream",
     "text": [
      "\n"
     ]
    },
    {
     "name": "stderr",
     "output_type": "stream",
     "text": [
      "/Users/raphael/GitHub/pingouin/pingouin/contingency.py:151: UserWarning: Low count on observed frequencies.\n",
      "  warnings.warn('Low count on {} frequencies.'.format(name))\n",
      "/Users/raphael/.pyenv/versions/3.8.3/lib/python3.8/site-packages/scipy/stats/stats.py:6716: RuntimeWarning: divide by zero encountered in power\n",
      "  terms = f_obs * ((f_obs / f_exp)**lambda_ - 1)\n",
      "/Users/raphael/.pyenv/versions/3.8.3/lib/python3.8/site-packages/scipy/stats/stats.py:6716: RuntimeWarning: invalid value encountered in multiply\n",
      "  terms = f_obs * ((f_obs / f_exp)**lambda_ - 1)\n",
      "/Users/raphael/.pyenv/versions/3.8.3/lib/python3.8/site-packages/scipy/stats/stats.py:6713: RuntimeWarning: divide by zero encountered in true_divide\n",
      "  terms = 2.0 * special.xlogy(f_exp, f_exp / f_obs)\n"
     ]
    },
    {
     "data": {
      "text/plain": [
       "test        pearson\n",
       "lambda          1.0\n",
       "chi2      39.632152\n",
       "dof             6.0\n",
       "pval       0.000001\n",
       "cramer     0.102831\n",
       "power      0.999469\n",
       "Name: 0, dtype: object"
      ]
     },
     "metadata": {},
     "output_type": "display_data"
    }
   ],
   "source": [
    "# Dataset\n",
    "value_counts_chi2(\"dataset\")"
   ]
  },
  {
   "cell_type": "code",
   "execution_count": 16,
   "metadata": {},
   "outputs": [
    {
     "data": {
      "text/plain": [
       "set       dataset\n",
       "testing   CCSHS      100\n",
       "          CHAT       100\n",
       "          CFS         99\n",
       "          SHHS        99\n",
       "          MESA        97\n",
       "          MROS        90\n",
       "training  SHHS       590\n",
       "          CFS        586\n",
       "          MESA       575\n",
       "          MROS       565\n",
       "          CCSHS      414\n",
       "          CHAT       351\n",
       "          HOMEPAP     82\n",
       "Name: dataset, dtype: int64"
      ]
     },
     "execution_count": 16,
     "metadata": {},
     "output_type": "execute_result"
    }
   ],
   "source": [
    "grp_set['dataset'].value_counts()"
   ]
  },
  {
   "cell_type": "code",
   "execution_count": 17,
   "metadata": {},
   "outputs": [
    {
     "data": {
      "text/plain": [
       "set               \n",
       "testing   None        43.761\n",
       "          Mild        27.179\n",
       "          Moderate    18.120\n",
       "          Severe      10.940\n",
       "training  None        42.776\n",
       "          Mild        27.790\n",
       "          Moderate    17.325\n",
       "          Severe      12.109\n",
       "Name: apnea, dtype: float64"
      ]
     },
     "metadata": {},
     "output_type": "display_data"
    },
    {
     "name": "stdout",
     "output_type": "stream",
     "text": [
      "\n"
     ]
    },
    {
     "data": {
      "text/plain": [
       "test       pearson\n",
       "lambda         1.0\n",
       "chi2      0.921804\n",
       "dof            3.0\n",
       "pval      0.820163\n",
       "cramer    0.015683\n",
       "power     0.110061\n",
       "Name: 0, dtype: object"
      ]
     },
     "metadata": {},
     "output_type": "display_data"
    }
   ],
   "source": [
    "# Apnea severity\n",
    "value_counts_chi2(\"apnea\")"
   ]
  },
  {
   "cell_type": "code",
   "execution_count": 18,
   "metadata": {},
   "outputs": [
    {
     "data": {
      "text/plain": [
       "set       insomnia\n",
       "testing   0.0         95.500\n",
       "          1.0          4.500\n",
       "training  0.0         93.049\n",
       "          1.0          6.951\n",
       "Name: insomnia, dtype: float64"
      ]
     },
     "metadata": {},
     "output_type": "display_data"
    },
    {
     "name": "stdout",
     "output_type": "stream",
     "text": [
      "\n"
     ]
    },
    {
     "data": {
      "text/plain": [
       "test       pearson\n",
       "lambda         1.0\n",
       "chi2      1.296056\n",
       "dof            1.0\n",
       "pval      0.254935\n",
       "cramer    0.018596\n",
       "power     0.206648\n",
       "Name: 0, dtype: object"
      ]
     },
     "metadata": {},
     "output_type": "display_data"
    }
   ],
   "source": [
    "# Insomnia\n",
    "value_counts_chi2(\"insomnia\")"
   ]
  },
  {
   "cell_type": "code",
   "execution_count": 19,
   "metadata": {},
   "outputs": [
    {
     "data": {
      "text/plain": [
       "set       narcolepsy\n",
       "testing   0.0           100.000\n",
       "training  0.0            99.169\n",
       "          1.0             0.831\n",
       "Name: narcolepsy, dtype: float64"
      ]
     },
     "metadata": {},
     "output_type": "display_data"
    },
    {
     "name": "stdout",
     "output_type": "stream",
     "text": [
      "\n"
     ]
    },
    {
     "name": "stderr",
     "output_type": "stream",
     "text": [
      "/Users/raphael/GitHub/pingouin/pingouin/contingency.py:151: UserWarning: Low count on expected frequencies.\n",
      "  warnings.warn('Low count on {} frequencies.'.format(name))\n"
     ]
    },
    {
     "data": {
      "text/plain": [
       "test       pearson\n",
       "lambda         1.0\n",
       "chi2      0.081892\n",
       "dof            1.0\n",
       "pval      0.774749\n",
       "cramer    0.004674\n",
       "power     0.059433\n",
       "Name: 0, dtype: object"
      ]
     },
     "metadata": {},
     "output_type": "display_data"
    }
   ],
   "source": [
    "# Narcolepsy\n",
    "value_counts_chi2(\"narcolepsy\")"
   ]
  },
  {
   "cell_type": "code",
   "execution_count": 20,
   "metadata": {},
   "outputs": [
    {
     "data": {
      "text/plain": [
       "set       depression\n",
       "testing   0.0           86.842\n",
       "          1.0           13.158\n",
       "training  0.0           84.171\n",
       "          1.0           15.829\n",
       "Name: depression, dtype: float64"
      ]
     },
     "metadata": {},
     "output_type": "display_data"
    },
    {
     "name": "stdout",
     "output_type": "stream",
     "text": [
      "\n"
     ]
    },
    {
     "data": {
      "text/plain": [
       "test       pearson\n",
       "lambda         1.0\n",
       "chi2      0.688042\n",
       "dof            1.0\n",
       "pval      0.406831\n",
       "cramer    0.013549\n",
       "power     0.131777\n",
       "Name: 0, dtype: object"
      ]
     },
     "metadata": {},
     "output_type": "display_data"
    }
   ],
   "source": [
    "# Depression\n",
    "value_counts_chi2(\"depression\")"
   ]
  },
  {
   "cell_type": "code",
   "execution_count": 21,
   "metadata": {},
   "outputs": [
    {
     "data": {
      "text/plain": [
       "set       diabete\n",
       "testing   0.0        82.008\n",
       "          1.0        17.992\n",
       "training  0.0        84.184\n",
       "          1.0        15.816\n",
       "Name: diabete, dtype: float64"
      ]
     },
     "metadata": {},
     "output_type": "display_data"
    },
    {
     "name": "stdout",
     "output_type": "stream",
     "text": [
      "\n"
     ]
    },
    {
     "data": {
      "text/plain": [
       "test       pearson\n",
       "lambda         1.0\n",
       "chi2      1.268897\n",
       "dof            1.0\n",
       "pval      0.259974\n",
       "cramer      0.0184\n",
       "power     0.203291\n",
       "Name: 0, dtype: object"
      ]
     },
     "metadata": {},
     "output_type": "display_data"
    }
   ],
   "source": [
    "# Diabetes\n",
    "value_counts_chi2(\"diabete\")"
   ]
  },
  {
   "cell_type": "code",
   "execution_count": 22,
   "metadata": {},
   "outputs": [
    {
     "data": {
      "text/plain": [
       "set       hypertension\n",
       "testing   0.0             64.730\n",
       "          1.0             35.270\n",
       "training  0.0             61.171\n",
       "          1.0             38.829\n",
       "Name: hypertension, dtype: float64"
      ]
     },
     "metadata": {},
     "output_type": "display_data"
    },
    {
     "name": "stdout",
     "output_type": "stream",
     "text": [
      "\n"
     ]
    },
    {
     "data": {
      "text/plain": [
       "test       pearson\n",
       "lambda         1.0\n",
       "chi2      2.054545\n",
       "dof            1.0\n",
       "pval      0.151753\n",
       "cramer    0.023413\n",
       "power     0.299582\n",
       "Name: 0, dtype: object"
      ]
     },
     "metadata": {},
     "output_type": "display_data"
    }
   ],
   "source": [
    "# Hypertension\n",
    "value_counts_chi2(\"hypertension\")"
   ]
  }
 ],
 "metadata": {
  "kernelspec": {
   "display_name": "Python 3",
   "language": "python",
   "name": "python3"
  },
  "language_info": {
   "codemirror_mode": {
    "name": "ipython",
    "version": 3
   },
   "file_extension": ".py",
   "mimetype": "text/x-python",
   "name": "python",
   "nbconvert_exporter": "python",
   "pygments_lexer": "ipython3",
   "version": "3.8.3"
  },
  "toc-autonumbering": true
 },
 "nbformat": 4,
 "nbformat_minor": 4
}
