{
 "cells": [
  {
   "cell_type": "markdown",
   "metadata": {},
   "source": [
    "# NSRR SHHS (Visit 1) Features extraction\n",
    "\n",
    "https://sleepdata.org/datasets/shhs/pages/10-montage-and-sampling-rate-information-shhs1.md\n",
    "\n",
    "https://sleepdata.org/datasets/shhs/variables/overall_shhs1\n",
    "\n",
    "EEG is C4-M1 (sf = 125 Hz). Careful: EOG have a sampling rate of 50 Hz (Nyquist = 25 Hz), need to resample."
   ]
  },
  {
   "cell_type": "code",
   "execution_count": null,
   "metadata": {
    "tags": []
   },
   "outputs": [],
   "source": [
    "import os\n",
    "import yasa\n",
    "import numpy as np\n",
    "import pandas as pd\n",
    "from tqdm.notebook import tqdm\n",
    "from mne.io import read_raw_edf\n",
    "\n",
    "root_dir = '/Volumes/NSRR/shhs/'\n",
    "eeg_dir = root_dir + 'polysomnography/edfs/shhs1/'\n",
    "hypno_dir = root_dir + 'polysomnography/annotations-events-profusion/shhs1/'\n",
    "\n",
    "desc_dir = root_dir + 'datasets/shhs1-dataset-0.14.0.csv'\n",
    "\n",
    "usecols = ['nsrrid', 'visitnumber', 'gender', 'age_s1', 'overall_shhs1', \n",
    "           'race', 'bmi_s1', 'ahi_a0h3', 'ethnicity']\n",
    "\n",
    "df_subj = pd.read_csv(desc_dir, usecols=usecols)\n",
    "\n",
    "# Rename columns\n",
    "df_subj.rename(columns={'nsrrid': 'subj',\n",
    "                        'gender1': 'gender',\n",
    "                        'age_s1': 'age',\n",
    "                        'overall_shhs1': 'overall',\n",
    "                        'bmi_s1': 'bmi',\n",
    "                        'ahi_a0h3': 'ahi',\n",
    "                      }, inplace=True)\n",
    "\n",
    "df_subj['race'].replace({1: 'caucasian', 2: 'african', 3: 'other'}, inplace=True)\n",
    "df_subj.loc[df_subj['ethnicity'] == 1, 'race'] = 'hispanic'\n",
    "df_subj.drop(columns=['ethnicity'], inplace=True)\n",
    "df_subj.rename(columns={'race': 'ethnicity'}, inplace=True)\n",
    "\n",
    "# Keep only \"Excellent\" quality study\n",
    "print(df_subj[df_subj['overall'] < 6].shape[0], \n",
    "      'subjects with bad PSG data quality will be removed.')\n",
    "df_subj = df_subj[df_subj['overall'] >= 6]\n",
    "\n",
    "df_subj['male'] = (df_subj['gender'] == 1).astype(int)\n",
    "\n",
    "# Keep only first visit\n",
    "df_subj = df_subj[df_subj['visitnumber'] == 1]\n",
    "\n",
    "# Convert to str\n",
    "df_subj['subj'] = df_subj['subj'].apply(lambda x: str(x).zfill(4))\n",
    "df_subj.set_index('subj', inplace=True)\n",
    "\n",
    "# Export demographics to CSV file\n",
    "df_subj['dataset'] = 'SHHS'\n",
    "df_subj.to_csv(\"/Volumes/JAWA/SHERLOCK/demo/demo_nsrr_shhs.csv\")\n",
    "\n",
    "# Keep only a random subset of 600 subjects to avoid dataset imbalance\n",
    "df_subj = df_subj.sample(n=600, replace=False, random_state=42)\n",
    "\n",
    "print(df_subj.shape[0], 'subjects remaining')\n",
    "df_subj.head(10)"
   ]
  },
  {
   "cell_type": "code",
   "execution_count": null,
   "metadata": {
    "tags": []
   },
   "outputs": [],
   "source": [
    "df = []\n",
    "include = ['EEG', 'EOG(L)', 'EMG']\n",
    "sf = 100\n",
    "\n",
    "for sub in tqdm(df_subj.index):\n",
    "    eeg_file = eeg_dir + 'shhs1-' + str(sub) + '.edf'\n",
    "    hypno_file = hypno_dir + 'shhs1-' + str(sub) + '-profusion.xml'\n",
    "\n",
    "    # LOAD EEG DATA\n",
    "    try:\n",
    "        raw = read_raw_edf(eeg_file, preload=False, verbose=0)\n",
    "        raw = read_raw_edf(eeg_file, preload=True, \n",
    "                           exclude=np.setdiff1d(raw.info['ch_names'], include), \n",
    "                           verbose=0)\n",
    "    except:\n",
    "        continue\n",
    "        \n",
    "    # Resample and high-pass filter \n",
    "    raw.resample(sf, npad=\"auto\")\n",
    "    \n",
    "    # LOAD HYPNOGRAM\n",
    "    hypno, sf_hyp = yasa.load_profusion_hypno(hypno_file)\n",
    "    # We keep up to 15 minutes before / after sleep\n",
    "    start_to_firstsleep_min = np.nonzero(hypno)[0][0] / 2\n",
    "    lastsleep = np.nonzero(hypno)[0][-1]\n",
    "    lastsleep_to_end_min = (len(hypno) - lastsleep) / 2\n",
    "    tmin, tmax = 0, None  # must be in seconds\n",
    "    if start_to_firstsleep_min > 15:\n",
    "        tmin = (start_to_firstsleep_min - 15) * 60\n",
    "    if lastsleep_to_end_min > 15:\n",
    "        tmax = lastsleep * 30 + 15 * 60\n",
    "    # Crop!\n",
    "    raw.crop(tmin, tmax)\n",
    "    if tmax is None:\n",
    "        hypno = hypno[int(tmin / 60 * 2):]\n",
    "    else:\n",
    "        hypno = hypno[int(tmin / 60 * 2):int(tmax / 60 * 2)]\n",
    "    # Hypno and data have the same number of epochs\n",
    "    n_epochs = hypno.shape[0]\n",
    "    if n_epochs != np.floor(raw.n_times / sf / 30):\n",
    "        print(\"- Hypno and data size do not match.\")\n",
    "        continue\n",
    "    \n",
    "    # Convert hypnogram to str\n",
    "    df_hypno = pd.Series(hypno)\n",
    "    df_hypno.replace({0: 'W', 1: 'N1', 2: 'N2', 3: 'N3', 4: 'R'}, inplace=True)\n",
    "    stage_min = df_hypno.value_counts(sort=False) / 2\n",
    "\n",
    "    # INCLUSION CRITERIA\n",
    "    # Hypnogram must include all stages\n",
    "    if np.unique(hypno).tolist() != [0, 1, 2, 3, 4]:\n",
    "        print(\"- Not all stages are present.\")\n",
    "        continue\n",
    "    # If the duration is not between 4 to 12 hours, skip subject\n",
    "    if not(4 < n_epochs / 120 < 12):\n",
    "        print(\"- Recording too short/long.\")\n",
    "        continue\n",
    "    # Requires at least 5 min of each stage\n",
    "    # if (stage_min < 5).any():\n",
    "    #    print(\"- Not 5 min of each stage.\")\n",
    "    #    continue\n",
    "       \n",
    "    # EXTRACT FEATURES\n",
    "    metadata = dict(age=df_subj.loc[sub, 'age'], male=df_subj.loc[sub, 'male'])\n",
    "    sls = yasa.SleepStaging(raw, eeg_name=include[0], eog_name=include[1], \n",
    "                            emg_name=include[2], metadata=metadata)\n",
    "\n",
    "    features = sls.get_features().reset_index()\n",
    "    features['subj'] = sub\n",
    "    features.set_index(['subj', 'epoch'], inplace=True)\n",
    "    \n",
    "    # Add hypnogram\n",
    "    features['stage'] = df_hypno.to_numpy()\n",
    "    df.append(features)\n",
    "\n",
    "df = pd.concat(df)"
   ]
  },
  {
   "cell_type": "code",
   "execution_count": null,
   "metadata": {},
   "outputs": [],
   "source": [
    "# Add dataset\n",
    "df['dataset'] = 'shhs1'\n",
    "\n",
    "# Convert to category\n",
    "df['dataset'] = df['dataset'].astype('category')\n",
    "df['stage'] = df['stage'].astype('category')"
   ]
  },
  {
   "cell_type": "code",
   "execution_count": null,
   "metadata": {},
   "outputs": [],
   "source": [
    "# %stage\n",
    "df['stage'].value_counts(normalize=True, sort=True)"
   ]
  },
  {
   "cell_type": "code",
   "execution_count": null,
   "metadata": {},
   "outputs": [],
   "source": [
    "# Median value of the EEG IQR per stage\n",
    "df.groupby('stage')['eeg_iqr'].median()"
   ]
  },
  {
   "cell_type": "code",
   "execution_count": null,
   "metadata": {},
   "outputs": [],
   "source": [
    "# Number of unique nights in dataset\n",
    "df.index.get_level_values(0).nunique()"
   ]
  },
  {
   "cell_type": "code",
   "execution_count": null,
   "metadata": {},
   "outputs": [],
   "source": [
    "# Export\n",
    "df.to_parquet(\"/Volumes/JAWA/SHERLOCK/features/features_nsrr_shhs1.parquet\")"
   ]
  }
 ],
 "metadata": {
  "kernelspec": {
   "display_name": "Python 3",
   "language": "python",
   "name": "python3"
  },
  "language_info": {
   "codemirror_mode": {
    "name": "ipython",
    "version": 3
   },
   "file_extension": ".py",
   "mimetype": "text/x-python",
   "name": "python",
   "nbconvert_exporter": "python",
   "pygments_lexer": "ipython3",
   "version": "3.8.3"
  }
 },
 "nbformat": 4,
 "nbformat_minor": 4
}
