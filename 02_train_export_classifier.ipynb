{
 "cells": [
  {
   "cell_type": "markdown",
   "metadata": {},
   "source": [
    "# Fit and export the sleep staging classifier"
   ]
  },
  {
   "cell_type": "code",
   "execution_count": 1,
   "metadata": {},
   "outputs": [],
   "source": [
    "import os\n",
    "import glob\n",
    "import shap\n",
    "import joblib\n",
    "import numpy as np\n",
    "import pandas as pd\n",
    "import seaborn as sns\n",
    "from tqdm.notebook import tqdm\n",
    "import matplotlib.pyplot as plt\n",
    "from lightgbm import LGBMClassifier\n",
    "sns.set(font_scale=1.25)\n",
    "\n",
    "# Define path\n",
    "parent_dir = os.getcwd()\n",
    "wdir = parent_dir + '/output/features/'\n",
    "wdir_demo = parent_dir + '/output/demo/'\n",
    "outdir = parent_dir + \"/output/classifiers/\"\n",
    "assert os.path.isdir(wdir)\n",
    "assert os.path.isdir(wdir_demo)\n",
    "assert os.path.isdir(outdir)"
   ]
  },
  {
   "cell_type": "markdown",
   "metadata": {},
   "source": [
    "## Load the feature files\n",
    "\n",
    "### Method 1: Loop across all datasets"
   ]
  },
  {
   "cell_type": "code",
   "execution_count": 2,
   "metadata": {
    "tags": []
   },
   "outputs": [],
   "source": [
    "# feat_files = glob.glob(wdir + \"features_nsrr*.parquet\")\n",
    "\n",
    "# df = []\n",
    "# for f in tqdm(feat_files):\n",
    "#     # Load current file\n",
    "#     print(f)\n",
    "#     tmp = pd.read_parquet(f)\n",
    "#     # Convert dtypes and downcast float\n",
    "#     tmp['age'] = tmp['age'].astype('int8')\n",
    "#     tmp['male'] = tmp['male'].astype('category')\n",
    "#     cols_float = tmp.select_dtypes(np.float64).columns.tolist()\n",
    "#     tmp[cols_float] = tmp[cols_float].astype(np.float32)\n",
    "#     # Append to main dataframe and delete tmp\n",
    "#     df.append(tmp)\n",
    "#     del tmp\n",
    "    \n",
    "# df = pd.concat(df)\n",
    "# print(\"There are %i unique nights\" % df.index.get_level_values(0).nunique())\n",
    "# df.head().round(2)\n",
    "\n",
    "# # Save the concatenated file\n",
    "# df.to_parquet(wdir + \"features_all.parquet\")"
   ]
  },
  {
   "cell_type": "markdown",
   "metadata": {},
   "source": [
    "### Method 2: Concatenated file\n",
    "\n",
    "Need to run Method 1 at least once to enable this."
   ]
  },
  {
   "cell_type": "code",
   "execution_count": 3,
   "metadata": {
    "tags": []
   },
   "outputs": [
    {
     "name": "stdout",
     "output_type": "stream",
     "text": [
      "There are 3163 unique nights\n"
     ]
    },
    {
     "data": {
      "text/html": [
       "<div>\n",
       "<style scoped>\n",
       "    .dataframe tbody tr th:only-of-type {\n",
       "        vertical-align: middle;\n",
       "    }\n",
       "\n",
       "    .dataframe tbody tr th {\n",
       "        vertical-align: top;\n",
       "    }\n",
       "\n",
       "    .dataframe thead th {\n",
       "        text-align: right;\n",
       "    }\n",
       "</style>\n",
       "<table border=\"1\" class=\"dataframe\">\n",
       "  <thead>\n",
       "    <tr style=\"text-align: right;\">\n",
       "      <th></th>\n",
       "      <th></th>\n",
       "      <th>age</th>\n",
       "      <th>eeg_abspow</th>\n",
       "      <th>eeg_abspow_c7min_norm</th>\n",
       "      <th>eeg_abspow_p2min_norm</th>\n",
       "      <th>eeg_alpha</th>\n",
       "      <th>eeg_alpha_c7min_norm</th>\n",
       "      <th>eeg_alpha_p2min_norm</th>\n",
       "      <th>eeg_at</th>\n",
       "      <th>eeg_at_c7min_norm</th>\n",
       "      <th>eeg_at_p2min_norm</th>\n",
       "      <th>...</th>\n",
       "      <th>eog_std_c7min_norm</th>\n",
       "      <th>eog_std_p2min_norm</th>\n",
       "      <th>eog_theta</th>\n",
       "      <th>eog_theta_c7min_norm</th>\n",
       "      <th>eog_theta_p2min_norm</th>\n",
       "      <th>male</th>\n",
       "      <th>time_hour</th>\n",
       "      <th>time_norm</th>\n",
       "      <th>stage</th>\n",
       "      <th>dataset</th>\n",
       "    </tr>\n",
       "    <tr>\n",
       "      <th>subj</th>\n",
       "      <th>epoch</th>\n",
       "      <th></th>\n",
       "      <th></th>\n",
       "      <th></th>\n",
       "      <th></th>\n",
       "      <th></th>\n",
       "      <th></th>\n",
       "      <th></th>\n",
       "      <th></th>\n",
       "      <th></th>\n",
       "      <th></th>\n",
       "      <th></th>\n",
       "      <th></th>\n",
       "      <th></th>\n",
       "      <th></th>\n",
       "      <th></th>\n",
       "      <th></th>\n",
       "      <th></th>\n",
       "      <th></th>\n",
       "      <th></th>\n",
       "      <th></th>\n",
       "      <th></th>\n",
       "    </tr>\n",
       "  </thead>\n",
       "  <tbody>\n",
       "    <tr>\n",
       "      <th rowspan=\"5\" valign=\"top\">300001</th>\n",
       "      <th>0</th>\n",
       "      <td>8</td>\n",
       "      <td>757.359985</td>\n",
       "      <td>-0.02</td>\n",
       "      <td>-0.02</td>\n",
       "      <td>0.01</td>\n",
       "      <td>0.54</td>\n",
       "      <td>-0.18</td>\n",
       "      <td>0.24</td>\n",
       "      <td>0.17</td>\n",
       "      <td>0.07</td>\n",
       "      <td>...</td>\n",
       "      <td>0.48</td>\n",
       "      <td>0.50</td>\n",
       "      <td>0.04</td>\n",
       "      <td>0.19</td>\n",
       "      <td>-0.44</td>\n",
       "      <td>0</td>\n",
       "      <td>0.00</td>\n",
       "      <td>0.0</td>\n",
       "      <td>W</td>\n",
       "      <td>chat</td>\n",
       "    </tr>\n",
       "    <tr>\n",
       "      <th>1</th>\n",
       "      <td>8</td>\n",
       "      <td>870.109985</td>\n",
       "      <td>-0.01</td>\n",
       "      <td>-0.01</td>\n",
       "      <td>0.02</td>\n",
       "      <td>0.56</td>\n",
       "      <td>-0.15</td>\n",
       "      <td>0.33</td>\n",
       "      <td>0.16</td>\n",
       "      <td>0.16</td>\n",
       "      <td>...</td>\n",
       "      <td>0.52</td>\n",
       "      <td>0.18</td>\n",
       "      <td>0.05</td>\n",
       "      <td>0.21</td>\n",
       "      <td>-0.38</td>\n",
       "      <td>0</td>\n",
       "      <td>0.01</td>\n",
       "      <td>0.0</td>\n",
       "      <td>W</td>\n",
       "      <td>chat</td>\n",
       "    </tr>\n",
       "    <tr>\n",
       "      <th>2</th>\n",
       "      <td>8</td>\n",
       "      <td>1116.589966</td>\n",
       "      <td>0.00</td>\n",
       "      <td>0.02</td>\n",
       "      <td>0.01</td>\n",
       "      <td>0.59</td>\n",
       "      <td>-0.21</td>\n",
       "      <td>0.21</td>\n",
       "      <td>0.15</td>\n",
       "      <td>0.10</td>\n",
       "      <td>...</td>\n",
       "      <td>0.58</td>\n",
       "      <td>0.29</td>\n",
       "      <td>0.03</td>\n",
       "      <td>0.24</td>\n",
       "      <td>-0.44</td>\n",
       "      <td>0</td>\n",
       "      <td>0.02</td>\n",
       "      <td>0.0</td>\n",
       "      <td>W</td>\n",
       "      <td>chat</td>\n",
       "    </tr>\n",
       "    <tr>\n",
       "      <th>3</th>\n",
       "      <td>8</td>\n",
       "      <td>276.269989</td>\n",
       "      <td>0.02</td>\n",
       "      <td>-0.02</td>\n",
       "      <td>0.09</td>\n",
       "      <td>0.62</td>\n",
       "      <td>0.35</td>\n",
       "      <td>0.30</td>\n",
       "      <td>0.14</td>\n",
       "      <td>0.12</td>\n",
       "      <td>...</td>\n",
       "      <td>0.64</td>\n",
       "      <td>0.44</td>\n",
       "      <td>0.31</td>\n",
       "      <td>0.29</td>\n",
       "      <td>0.29</td>\n",
       "      <td>0</td>\n",
       "      <td>0.02</td>\n",
       "      <td>0.0</td>\n",
       "      <td>W</td>\n",
       "      <td>chat</td>\n",
       "    </tr>\n",
       "    <tr>\n",
       "      <th>4</th>\n",
       "      <td>8</td>\n",
       "      <td>71.839996</td>\n",
       "      <td>0.05</td>\n",
       "      <td>-0.07</td>\n",
       "      <td>0.14</td>\n",
       "      <td>0.58</td>\n",
       "      <td>1.23</td>\n",
       "      <td>0.56</td>\n",
       "      <td>0.12</td>\n",
       "      <td>0.29</td>\n",
       "      <td>...</td>\n",
       "      <td>0.68</td>\n",
       "      <td>0.30</td>\n",
       "      <td>0.22</td>\n",
       "      <td>0.24</td>\n",
       "      <td>0.77</td>\n",
       "      <td>0</td>\n",
       "      <td>0.03</td>\n",
       "      <td>0.0</td>\n",
       "      <td>W</td>\n",
       "      <td>chat</td>\n",
       "    </tr>\n",
       "  </tbody>\n",
       "</table>\n",
       "<p>5 rows × 153 columns</p>\n",
       "</div>"
      ],
      "text/plain": [
       "              age   eeg_abspow  eeg_abspow_c7min_norm  eeg_abspow_p2min_norm  \\\n",
       "subj   epoch                                                                   \n",
       "300001 0        8   757.359985                  -0.02                  -0.02   \n",
       "       1        8   870.109985                  -0.01                  -0.01   \n",
       "       2        8  1116.589966                   0.00                   0.02   \n",
       "       3        8   276.269989                   0.02                  -0.02   \n",
       "       4        8    71.839996                   0.05                  -0.07   \n",
       "\n",
       "              eeg_alpha  eeg_alpha_c7min_norm  eeg_alpha_p2min_norm  eeg_at  \\\n",
       "subj   epoch                                                                  \n",
       "300001 0           0.01                  0.54                 -0.18    0.24   \n",
       "       1           0.02                  0.56                 -0.15    0.33   \n",
       "       2           0.01                  0.59                 -0.21    0.21   \n",
       "       3           0.09                  0.62                  0.35    0.30   \n",
       "       4           0.14                  0.58                  1.23    0.56   \n",
       "\n",
       "              eeg_at_c7min_norm  eeg_at_p2min_norm  ...  eog_std_c7min_norm  \\\n",
       "subj   epoch                                        ...                       \n",
       "300001 0                   0.17               0.07  ...                0.48   \n",
       "       1                   0.16               0.16  ...                0.52   \n",
       "       2                   0.15               0.10  ...                0.58   \n",
       "       3                   0.14               0.12  ...                0.64   \n",
       "       4                   0.12               0.29  ...                0.68   \n",
       "\n",
       "              eog_std_p2min_norm  eog_theta  eog_theta_c7min_norm  \\\n",
       "subj   epoch                                                        \n",
       "300001 0                    0.50       0.04                  0.19   \n",
       "       1                    0.18       0.05                  0.21   \n",
       "       2                    0.29       0.03                  0.24   \n",
       "       3                    0.44       0.31                  0.29   \n",
       "       4                    0.30       0.22                  0.24   \n",
       "\n",
       "              eog_theta_p2min_norm  male  time_hour  time_norm  stage  dataset  \n",
       "subj   epoch                                                                    \n",
       "300001 0                     -0.44     0       0.00        0.0      W     chat  \n",
       "       1                     -0.38     0       0.01        0.0      W     chat  \n",
       "       2                     -0.44     0       0.02        0.0      W     chat  \n",
       "       3                      0.29     0       0.02        0.0      W     chat  \n",
       "       4                      0.77     0       0.03        0.0      W     chat  \n",
       "\n",
       "[5 rows x 153 columns]"
      ]
     },
     "execution_count": 3,
     "metadata": {},
     "output_type": "execute_result"
    }
   ],
   "source": [
    "# Or we can simply use a pre-saved concatenated file\n",
    "df = pd.read_parquet(wdir + \"features_all.parquet\")\n",
    "print(\"There are %i unique nights\" % df.index.get_level_values(0).nunique())\n",
    "df.head().round(2)"
   ]
  },
  {
   "cell_type": "code",
   "execution_count": 4,
   "metadata": {},
   "outputs": [
    {
     "data": {
      "text/html": [
       "<div>\n",
       "<style scoped>\n",
       "    .dataframe tbody tr th:only-of-type {\n",
       "        vertical-align: middle;\n",
       "    }\n",
       "\n",
       "    .dataframe tbody tr th {\n",
       "        vertical-align: top;\n",
       "    }\n",
       "\n",
       "    .dataframe thead th {\n",
       "        text-align: right;\n",
       "    }\n",
       "</style>\n",
       "<table border=\"1\" class=\"dataframe\">\n",
       "  <thead>\n",
       "    <tr style=\"text-align: right;\">\n",
       "      <th></th>\n",
       "      <th>count</th>\n",
       "      <th>mean</th>\n",
       "      <th>std</th>\n",
       "      <th>min</th>\n",
       "      <th>25%</th>\n",
       "      <th>50%</th>\n",
       "      <th>75%</th>\n",
       "      <th>max</th>\n",
       "    </tr>\n",
       "    <tr>\n",
       "      <th>dataset</th>\n",
       "      <th></th>\n",
       "      <th></th>\n",
       "      <th></th>\n",
       "      <th></th>\n",
       "      <th></th>\n",
       "      <th></th>\n",
       "      <th></th>\n",
       "      <th></th>\n",
       "    </tr>\n",
       "  </thead>\n",
       "  <tbody>\n",
       "    <tr>\n",
       "      <th>ccshs</th>\n",
       "      <td>554444.0</td>\n",
       "      <td>28.01</td>\n",
       "      <td>34.66</td>\n",
       "      <td>0.0</td>\n",
       "      <td>14.27</td>\n",
       "      <td>19.63</td>\n",
       "      <td>31.11</td>\n",
       "      <td>990.07</td>\n",
       "    </tr>\n",
       "    <tr>\n",
       "      <th>cfs</th>\n",
       "      <td>694927.0</td>\n",
       "      <td>25.39</td>\n",
       "      <td>37.19</td>\n",
       "      <td>0.0</td>\n",
       "      <td>12.13</td>\n",
       "      <td>17.33</td>\n",
       "      <td>27.39</td>\n",
       "      <td>1010.59</td>\n",
       "    </tr>\n",
       "    <tr>\n",
       "      <th>chat</th>\n",
       "      <td>429988.0</td>\n",
       "      <td>54.74</td>\n",
       "      <td>123.99</td>\n",
       "      <td>0.0</td>\n",
       "      <td>26.00</td>\n",
       "      <td>36.29</td>\n",
       "      <td>58.85</td>\n",
       "      <td>12212.25</td>\n",
       "    </tr>\n",
       "    <tr>\n",
       "      <th>homepap</th>\n",
       "      <td>76069.0</td>\n",
       "      <td>13.90</td>\n",
       "      <td>30.48</td>\n",
       "      <td>0.0</td>\n",
       "      <td>5.45</td>\n",
       "      <td>9.08</td>\n",
       "      <td>14.43</td>\n",
       "      <td>2693.20</td>\n",
       "    </tr>\n",
       "    <tr>\n",
       "      <th>mesa</th>\n",
       "      <td>726077.0</td>\n",
       "      <td>73.61</td>\n",
       "      <td>431.35</td>\n",
       "      <td>0.0</td>\n",
       "      <td>13.74</td>\n",
       "      <td>18.63</td>\n",
       "      <td>29.05</td>\n",
       "      <td>9864.67</td>\n",
       "    </tr>\n",
       "    <tr>\n",
       "      <th>mros</th>\n",
       "      <td>727933.0</td>\n",
       "      <td>18.70</td>\n",
       "      <td>16.93</td>\n",
       "      <td>0.0</td>\n",
       "      <td>10.95</td>\n",
       "      <td>14.74</td>\n",
       "      <td>21.22</td>\n",
       "      <td>494.84</td>\n",
       "    </tr>\n",
       "    <tr>\n",
       "      <th>shhs1</th>\n",
       "      <td>597769.0</td>\n",
       "      <td>24.86</td>\n",
       "      <td>35.20</td>\n",
       "      <td>0.0</td>\n",
       "      <td>12.47</td>\n",
       "      <td>16.18</td>\n",
       "      <td>22.11</td>\n",
       "      <td>255.55</td>\n",
       "    </tr>\n",
       "  </tbody>\n",
       "</table>\n",
       "</div>"
      ],
      "text/plain": [
       "            count   mean     std  min    25%    50%    75%       max\n",
       "dataset                                                             \n",
       "ccshs    554444.0  28.01   34.66  0.0  14.27  19.63  31.11    990.07\n",
       "cfs      694927.0  25.39   37.19  0.0  12.13  17.33  27.39   1010.59\n",
       "chat     429988.0  54.74  123.99  0.0  26.00  36.29  58.85  12212.25\n",
       "homepap   76069.0  13.90   30.48  0.0   5.45   9.08  14.43   2693.20\n",
       "mesa     726077.0  73.61  431.35  0.0  13.74  18.63  29.05   9864.67\n",
       "mros     727933.0  18.70   16.93  0.0  10.95  14.74  21.22    494.84\n",
       "shhs1    597769.0  24.86   35.20  0.0  12.47  16.18  22.11    255.55"
      ]
     },
     "execution_count": 4,
     "metadata": {},
     "output_type": "execute_result"
    }
   ],
   "source": [
    "# Check units of datasets\n",
    "df.groupby('dataset')['eeg_iqr'].describe().round(2)"
   ]
  },
  {
   "cell_type": "markdown",
   "metadata": {},
   "source": [
    "### Add demographics (race, BMI)"
   ]
  },
  {
   "cell_type": "code",
   "execution_count": 5,
   "metadata": {},
   "outputs": [
    {
     "data": {
      "text/html": [
       "<div>\n",
       "<style scoped>\n",
       "    .dataframe tbody tr th:only-of-type {\n",
       "        vertical-align: middle;\n",
       "    }\n",
       "\n",
       "    .dataframe tbody tr th {\n",
       "        vertical-align: top;\n",
       "    }\n",
       "\n",
       "    .dataframe thead th {\n",
       "        text-align: right;\n",
       "    }\n",
       "</style>\n",
       "<table border=\"1\" class=\"dataframe\">\n",
       "  <thead>\n",
       "    <tr style=\"text-align: right;\">\n",
       "      <th></th>\n",
       "      <th>dataset</th>\n",
       "      <th>subj</th>\n",
       "      <th>bmi</th>\n",
       "      <th>ahi</th>\n",
       "      <th>ethnicity</th>\n",
       "      <th>set</th>\n",
       "    </tr>\n",
       "  </thead>\n",
       "  <tbody>\n",
       "    <tr>\n",
       "      <th>0</th>\n",
       "      <td>CCSHS</td>\n",
       "      <td>1800001</td>\n",
       "      <td>19.089716</td>\n",
       "      <td>0.244898</td>\n",
       "      <td>caucasian</td>\n",
       "      <td>training</td>\n",
       "    </tr>\n",
       "    <tr>\n",
       "      <th>1</th>\n",
       "      <td>CCSHS</td>\n",
       "      <td>1800005</td>\n",
       "      <td>29.338584</td>\n",
       "      <td>0.239521</td>\n",
       "      <td>caucasian</td>\n",
       "      <td>testing</td>\n",
       "    </tr>\n",
       "    <tr>\n",
       "      <th>2</th>\n",
       "      <td>CCSHS</td>\n",
       "      <td>1800007</td>\n",
       "      <td>35.897564</td>\n",
       "      <td>1.846154</td>\n",
       "      <td>african</td>\n",
       "      <td>training</td>\n",
       "    </tr>\n",
       "    <tr>\n",
       "      <th>3</th>\n",
       "      <td>CCSHS</td>\n",
       "      <td>1800013</td>\n",
       "      <td>21.176986</td>\n",
       "      <td>0.113636</td>\n",
       "      <td>caucasian</td>\n",
       "      <td>training</td>\n",
       "    </tr>\n",
       "    <tr>\n",
       "      <th>4</th>\n",
       "      <td>CCSHS</td>\n",
       "      <td>1800014</td>\n",
       "      <td>33.587853</td>\n",
       "      <td>1.901408</td>\n",
       "      <td>african</td>\n",
       "      <td>training</td>\n",
       "    </tr>\n",
       "    <tr>\n",
       "      <th>...</th>\n",
       "      <td>...</td>\n",
       "      <td>...</td>\n",
       "      <td>...</td>\n",
       "      <td>...</td>\n",
       "      <td>...</td>\n",
       "      <td>...</td>\n",
       "    </tr>\n",
       "    <tr>\n",
       "      <th>3876</th>\n",
       "      <td>SHHS</td>\n",
       "      <td>205792</td>\n",
       "      <td>37.393649</td>\n",
       "      <td>25.096154</td>\n",
       "      <td>caucasian</td>\n",
       "      <td>training</td>\n",
       "    </tr>\n",
       "    <tr>\n",
       "      <th>3877</th>\n",
       "      <td>SHHS</td>\n",
       "      <td>205794</td>\n",
       "      <td>22.313278</td>\n",
       "      <td>3.262840</td>\n",
       "      <td>caucasian</td>\n",
       "      <td>training</td>\n",
       "    </tr>\n",
       "    <tr>\n",
       "      <th>3878</th>\n",
       "      <td>SHHS</td>\n",
       "      <td>205799</td>\n",
       "      <td>32.414213</td>\n",
       "      <td>3.287671</td>\n",
       "      <td>caucasian</td>\n",
       "      <td>training</td>\n",
       "    </tr>\n",
       "    <tr>\n",
       "      <th>3879</th>\n",
       "      <td>SHHS</td>\n",
       "      <td>205800</td>\n",
       "      <td>25.693134</td>\n",
       "      <td>53.535660</td>\n",
       "      <td>caucasian</td>\n",
       "      <td>training</td>\n",
       "    </tr>\n",
       "    <tr>\n",
       "      <th>3880</th>\n",
       "      <td>SHHS</td>\n",
       "      <td>205801</td>\n",
       "      <td>26.730372</td>\n",
       "      <td>22.452592</td>\n",
       "      <td>caucasian</td>\n",
       "      <td>testing</td>\n",
       "    </tr>\n",
       "  </tbody>\n",
       "</table>\n",
       "<p>3881 rows × 6 columns</p>\n",
       "</div>"
      ],
      "text/plain": [
       "     dataset     subj        bmi        ahi  ethnicity       set\n",
       "0      CCSHS  1800001  19.089716   0.244898  caucasian  training\n",
       "1      CCSHS  1800005  29.338584   0.239521  caucasian   testing\n",
       "2      CCSHS  1800007  35.897564   1.846154    african  training\n",
       "3      CCSHS  1800013  21.176986   0.113636  caucasian  training\n",
       "4      CCSHS  1800014  33.587853   1.901408    african  training\n",
       "...      ...      ...        ...        ...        ...       ...\n",
       "3876    SHHS   205792  37.393649  25.096154  caucasian  training\n",
       "3877    SHHS   205794  22.313278   3.262840  caucasian  training\n",
       "3878    SHHS   205799  32.414213   3.287671  caucasian  training\n",
       "3879    SHHS   205800  25.693134  53.535660  caucasian  training\n",
       "3880    SHHS   205801  26.730372  22.452592  caucasian   testing\n",
       "\n",
       "[3881 rows x 6 columns]"
      ]
     },
     "execution_count": 5,
     "metadata": {},
     "output_type": "execute_result"
    }
   ],
   "source": [
    "df_demo = pd.read_csv(wdir_demo + \"demo_nsrr_all.csv\")\n",
    "# Remove columns that are already present in `df`\n",
    "df_demo.drop(columns=['male', 'age'], inplace=True)\n",
    "df_demo"
   ]
  },
  {
   "cell_type": "code",
   "execution_count": 6,
   "metadata": {},
   "outputs": [
    {
     "data": {
      "text/html": [
       "<div>\n",
       "<style scoped>\n",
       "    .dataframe tbody tr th:only-of-type {\n",
       "        vertical-align: middle;\n",
       "    }\n",
       "\n",
       "    .dataframe tbody tr th {\n",
       "        vertical-align: top;\n",
       "    }\n",
       "\n",
       "    .dataframe thead th {\n",
       "        text-align: right;\n",
       "    }\n",
       "</style>\n",
       "<table border=\"1\" class=\"dataframe\">\n",
       "  <thead>\n",
       "    <tr style=\"text-align: right;\">\n",
       "      <th></th>\n",
       "      <th>subj</th>\n",
       "      <th>age</th>\n",
       "      <th>male</th>\n",
       "      <th>dataset</th>\n",
       "      <th>bmi</th>\n",
       "      <th>ahi</th>\n",
       "      <th>ethnicity</th>\n",
       "      <th>set</th>\n",
       "    </tr>\n",
       "  </thead>\n",
       "  <tbody>\n",
       "    <tr>\n",
       "      <th>0</th>\n",
       "      <td>1800001</td>\n",
       "      <td>17</td>\n",
       "      <td>0</td>\n",
       "      <td>CCSHS</td>\n",
       "      <td>19.089716</td>\n",
       "      <td>0.244898</td>\n",
       "      <td>caucasian</td>\n",
       "      <td>training</td>\n",
       "    </tr>\n",
       "    <tr>\n",
       "      <th>1</th>\n",
       "      <td>1800007</td>\n",
       "      <td>18</td>\n",
       "      <td>1</td>\n",
       "      <td>CCSHS</td>\n",
       "      <td>35.897564</td>\n",
       "      <td>1.846154</td>\n",
       "      <td>african</td>\n",
       "      <td>training</td>\n",
       "    </tr>\n",
       "    <tr>\n",
       "      <th>2</th>\n",
       "      <td>1800013</td>\n",
       "      <td>18</td>\n",
       "      <td>1</td>\n",
       "      <td>CCSHS</td>\n",
       "      <td>21.176986</td>\n",
       "      <td>0.113636</td>\n",
       "      <td>caucasian</td>\n",
       "      <td>training</td>\n",
       "    </tr>\n",
       "    <tr>\n",
       "      <th>3</th>\n",
       "      <td>1800014</td>\n",
       "      <td>17</td>\n",
       "      <td>0</td>\n",
       "      <td>CCSHS</td>\n",
       "      <td>33.587853</td>\n",
       "      <td>1.901408</td>\n",
       "      <td>african</td>\n",
       "      <td>training</td>\n",
       "    </tr>\n",
       "    <tr>\n",
       "      <th>4</th>\n",
       "      <td>1800018</td>\n",
       "      <td>18</td>\n",
       "      <td>1</td>\n",
       "      <td>CCSHS</td>\n",
       "      <td>20.385755</td>\n",
       "      <td>0.120000</td>\n",
       "      <td>caucasian</td>\n",
       "      <td>training</td>\n",
       "    </tr>\n",
       "    <tr>\n",
       "      <th>...</th>\n",
       "      <td>...</td>\n",
       "      <td>...</td>\n",
       "      <td>...</td>\n",
       "      <td>...</td>\n",
       "      <td>...</td>\n",
       "      <td>...</td>\n",
       "      <td>...</td>\n",
       "      <td>...</td>\n",
       "    </tr>\n",
       "    <tr>\n",
       "      <th>3158</th>\n",
       "      <td>205789</td>\n",
       "      <td>55</td>\n",
       "      <td>0</td>\n",
       "      <td>SHHS</td>\n",
       "      <td>25.215045</td>\n",
       "      <td>1.866029</td>\n",
       "      <td>caucasian</td>\n",
       "      <td>training</td>\n",
       "    </tr>\n",
       "    <tr>\n",
       "      <th>3159</th>\n",
       "      <td>205792</td>\n",
       "      <td>55</td>\n",
       "      <td>1</td>\n",
       "      <td>SHHS</td>\n",
       "      <td>37.393649</td>\n",
       "      <td>25.096154</td>\n",
       "      <td>caucasian</td>\n",
       "      <td>training</td>\n",
       "    </tr>\n",
       "    <tr>\n",
       "      <th>3160</th>\n",
       "      <td>205794</td>\n",
       "      <td>65</td>\n",
       "      <td>0</td>\n",
       "      <td>SHHS</td>\n",
       "      <td>22.313278</td>\n",
       "      <td>3.262840</td>\n",
       "      <td>caucasian</td>\n",
       "      <td>training</td>\n",
       "    </tr>\n",
       "    <tr>\n",
       "      <th>3161</th>\n",
       "      <td>205799</td>\n",
       "      <td>54</td>\n",
       "      <td>0</td>\n",
       "      <td>SHHS</td>\n",
       "      <td>32.414213</td>\n",
       "      <td>3.287671</td>\n",
       "      <td>caucasian</td>\n",
       "      <td>training</td>\n",
       "    </tr>\n",
       "    <tr>\n",
       "      <th>3162</th>\n",
       "      <td>205800</td>\n",
       "      <td>66</td>\n",
       "      <td>1</td>\n",
       "      <td>SHHS</td>\n",
       "      <td>25.693134</td>\n",
       "      <td>53.535660</td>\n",
       "      <td>caucasian</td>\n",
       "      <td>training</td>\n",
       "    </tr>\n",
       "  </tbody>\n",
       "</table>\n",
       "<p>3163 rows × 8 columns</p>\n",
       "</div>"
      ],
      "text/plain": [
       "         subj  age  male dataset        bmi        ahi  ethnicity       set\n",
       "0     1800001   17     0   CCSHS  19.089716   0.244898  caucasian  training\n",
       "1     1800007   18     1   CCSHS  35.897564   1.846154    african  training\n",
       "2     1800013   18     1   CCSHS  21.176986   0.113636  caucasian  training\n",
       "3     1800014   17     0   CCSHS  33.587853   1.901408    african  training\n",
       "4     1800018   18     1   CCSHS  20.385755   0.120000  caucasian  training\n",
       "...       ...  ...   ...     ...        ...        ...        ...       ...\n",
       "3158   205789   55     0    SHHS  25.215045   1.866029  caucasian  training\n",
       "3159   205792   55     1    SHHS  37.393649  25.096154  caucasian  training\n",
       "3160   205794   65     0    SHHS  22.313278   3.262840  caucasian  training\n",
       "3161   205799   54     0    SHHS  32.414213   3.287671  caucasian  training\n",
       "3162   205800   66     1    SHHS  25.693134  53.535660  caucasian  training\n",
       "\n",
       "[3163 rows x 8 columns]"
      ]
     },
     "execution_count": 6,
     "metadata": {},
     "output_type": "execute_result"
    }
   ],
   "source": [
    "grp_subj = df.groupby(level=0, as_index=True)[['age', 'male', 'dataset']].first()\n",
    "grp_subj.reset_index(inplace=True)\n",
    "# Preprocessing before merge\n",
    "grp_subj['subj'] = grp_subj['subj'].astype(str)\n",
    "grp_subj['dataset'] = grp_subj['dataset'].str.upper()\n",
    "grp_subj['dataset'] = grp_subj['dataset'].replace({'SHHS1': 'SHHS'})\n",
    "# Left merge to keep only training set\n",
    "grp_subj = grp_subj.merge(df_demo, how=\"left\")\n",
    "grp_subj = grp_subj.sort_values(by=['dataset', 'subj']).reset_index(drop=True)\n",
    "grp_subj"
   ]
  },
  {
   "cell_type": "markdown",
   "metadata": {},
   "source": [
    "### Descriptive statistics of the training set"
   ]
  },
  {
   "cell_type": "code",
   "execution_count": 7,
   "metadata": {},
   "outputs": [
    {
     "data": {
      "text/plain": [
       "subj           0\n",
       "age            0\n",
       "male           0\n",
       "dataset        0\n",
       "bmi          577\n",
       "ahi            0\n",
       "ethnicity      0\n",
       "set            0\n",
       "dtype: int64"
      ]
     },
     "execution_count": 7,
     "metadata": {},
     "output_type": "execute_result"
    }
   ],
   "source": [
    "# Missing values\n",
    "grp_subj.isna().sum()"
   ]
  },
  {
   "cell_type": "code",
   "execution_count": 8,
   "metadata": {},
   "outputs": [
    {
     "data": {
      "text/plain": [
       "CCSHS      414\n",
       "CFS        586\n",
       "CHAT       351\n",
       "HOMEPAP     82\n",
       "MESA       575\n",
       "MROS       565\n",
       "SHHS       590\n",
       "Name: dataset, dtype: int64"
      ]
     },
     "execution_count": 8,
     "metadata": {},
     "output_type": "execute_result"
    }
   ],
   "source": [
    "# Number of nights per dataset\n",
    "grp_subj['dataset'].value_counts(sort=False)"
   ]
  },
  {
   "cell_type": "code",
   "execution_count": 9,
   "metadata": {},
   "outputs": [
    {
     "data": {
      "text/plain": [
       "3807207"
      ]
     },
     "execution_count": 9,
     "metadata": {},
     "output_type": "execute_result"
    }
   ],
   "source": [
    "df.shape[0]"
   ]
  },
  {
   "cell_type": "code",
   "execution_count": 10,
   "metadata": {},
   "outputs": [
    {
     "data": {
      "text/plain": [
       "31726.725"
      ]
     },
     "execution_count": 10,
     "metadata": {},
     "output_type": "execute_result"
    }
   ],
   "source": [
    "# Number of hours / epochs\n",
    "df.shape[0] / 120"
   ]
  },
  {
   "cell_type": "code",
   "execution_count": 11,
   "metadata": {},
   "outputs": [
    {
     "data": {
      "text/plain": [
       "1    0.565602\n",
       "0    0.434398\n",
       "Name: male, dtype: float64"
      ]
     },
     "execution_count": 11,
     "metadata": {},
     "output_type": "execute_result"
    }
   ],
   "source": [
    "grp_subj['male'].value_counts(normalize=True)"
   ]
  },
  {
   "cell_type": "code",
   "execution_count": 12,
   "metadata": {},
   "outputs": [
    {
     "name": "stdout",
     "output_type": "stream",
     "text": [
      "49.79 ± 26.38 (min = 5.00, median = 58.0, max = 93.00)\n"
     ]
    },
    {
     "data": {
      "image/png": "[encoded data removed]",
      "text/plain": [
       "<Figure size 432x288 with 1 Axes>"
      ]
     },
     "metadata": {},
     "output_type": "display_data"
    }
   ],
   "source": [
    "# Plot age distribution\n",
    "def mean_std(x):\n",
    "    print(f\"{x.mean():.2f} ± {x.std():.2f} (min = {x.min():.2f}, median = {x.median()}, max = {x.max():.2f})\")\n",
    "\n",
    "grp_subj['age'].agg(mean_std)\n",
    "grp_subj['age'].hist()\n",
    "plt.xlabel(\"Age\");"
   ]
  },
  {
   "cell_type": "code",
   "execution_count": 13,
   "metadata": {},
   "outputs": [
    {
     "name": "stdout",
     "output_type": "stream",
     "text": [
      "12.94 ± 16.35 (min = 0.00, median = 6.9491525424, max = 125.07)\n"
     ]
    }
   ],
   "source": [
    "grp_subj['ahi'].agg(mean_std)"
   ]
  },
  {
   "cell_type": "code",
   "execution_count": 14,
   "metadata": {},
   "outputs": [
    {
     "name": "stdout",
     "output_type": "stream",
     "text": [
      "27.42 ± 7.72 (min = 12.49, median = 26.307136155000002, max = 84.80)\n"
     ]
    }
   ],
   "source": [
    "grp_subj['bmi'].agg(mean_std)"
   ]
  },
  {
   "cell_type": "code",
   "execution_count": 15,
   "metadata": {},
   "outputs": [
    {
     "data": {
      "text/plain": [
       "caucasian    58.0\n",
       "african      29.5\n",
       "hispanic      7.0\n",
       "other         5.5\n",
       "Name: ethnicity, dtype: float64"
      ]
     },
     "execution_count": 15,
     "metadata": {},
     "output_type": "execute_result"
    }
   ],
   "source": [
    "100 * grp_subj['ethnicity'].value_counts(normalize=True).round(3)"
   ]
  },
  {
   "cell_type": "markdown",
   "metadata": {},
   "source": [
    "### Create different combinations of predictors"
   ]
  },
  {
   "cell_type": "code",
   "execution_count": 16,
   "metadata": {},
   "outputs": [],
   "source": [
    "cols_all = df.columns\n",
    "cols_time = cols_all[cols_all.str.startswith('time_')].tolist()\n",
    "# EEG also includes the time columns\n",
    "cols_eeg = cols_all[cols_all.str.startswith('eeg_')].tolist() + cols_time  \n",
    "cols_eog = cols_all[cols_all.str.startswith('eog_')].tolist()\n",
    "cols_emg = cols_all[cols_all.str.startswith('emg_')].tolist()\n",
    "cols_demo = ['age', 'male']"
   ]
  },
  {
   "cell_type": "code",
   "execution_count": 17,
   "metadata": {},
   "outputs": [],
   "source": [
    "# Define predictors\n",
    "X_all = {\n",
    "    'eeg': df[cols_eeg],\n",
    "    'eeg+demo': df[cols_eeg + cols_demo],\n",
    "    'eeg+eog': df[cols_eeg + cols_eog],\n",
    "    'eeg+eog+demo': df[cols_eeg + cols_eog + cols_demo],\n",
    "    'eeg+eog+emg': df[cols_eeg + cols_eog + cols_emg],\n",
    "    'eeg+eog+emg+demo': df[cols_eeg + cols_eog + cols_emg + cols_demo],\n",
    "}\n",
    "\n",
    "# Define target and groups\n",
    "y = df['stage']\n",
    "subjects = df.index.get_level_values(0).to_numpy()"
   ]
  },
  {
   "cell_type": "code",
   "execution_count": 18,
   "metadata": {},
   "outputs": [],
   "source": [
    "# Export a full list of features\n",
    "features = pd.Series(X_all['eeg+eog+emg+demo'].columns, name=\"Features\")\n",
    "features.to_csv(\"features.csv\", index=False)"
   ]
  },
  {
   "cell_type": "code",
   "execution_count": 19,
   "metadata": {},
   "outputs": [
    {
     "data": {
      "image/png": "[encoded data removed]",
      "text/plain": [
       "<Figure size 432x288 with 1 Axes>"
      ]
     },
     "metadata": {},
     "output_type": "display_data"
    }
   ],
   "source": [
    "# % of each sleep stage\n",
    "y.value_counts(normalize=True).plot.barh(xlabel=\"Stage\", ylabel=\"Proportion\");"
   ]
  },
  {
   "cell_type": "code",
   "execution_count": 20,
   "metadata": {},
   "outputs": [],
   "source": [
    "# Define hyper-parameters\n",
    "params = dict(\n",
    "    boosting_type='gbdt',\n",
    "    n_estimators=300,\n",
    "    max_depth=7,\n",
    "    num_leaves=70,\n",
    "    colsample_bytree=0.8,\n",
    "    importance_type='gain',\n",
    ")"
   ]
  },
  {
   "cell_type": "code",
   "execution_count": 21,
   "metadata": {},
   "outputs": [],
   "source": [
    "# from sklearn.utils.class_weight import compute_class_weight\n",
    "# compute_class_weight('balanced', np.unique(y), y)\n",
    "\n",
    "# Manually define class weight\n",
    "# class_weight = None\n",
    "# class_weight = \"balanced\"\n",
    "class_weight = \"custom\"\n",
    "\n",
    "if class_weight == \"custom\":\n",
    "    # See output/classifiers/gridsearch_class_weights.xlsx\n",
    "    params['class_weight'] = {'N1': 2, 'N2': 1, 'N3': 1.2, 'R': 1.2, 'W': 1}\n",
    "else:\n",
    "    params['class_weight'] = class_weight"
   ]
  },
  {
   "cell_type": "markdown",
   "metadata": {},
   "source": [
    "****\n",
    "\n",
    "## Fit the training set and export the trained classifier"
   ]
  },
  {
   "cell_type": "code",
   "execution_count": 22,
   "metadata": {
    "tags": []
   },
   "outputs": [
    {
     "data": {
      "application/vnd.jupyter.widget-view+json": {
       "model_id": "8ffbfeccbd9d4b35a88488f60c416f7d",
       "version_major": 2,
       "version_minor": 0
      },
      "text/plain": [
       "HBox(children=(FloatProgress(value=0.0, max=6.0), HTML(value='')))"
      ]
     },
     "metadata": {},
     "output_type": "display_data"
    },
    {
     "name": "stdout",
     "output_type": "stream",
     "text": [
      "eeg (65 features) - training accuracy: 0.861\n",
      "eeg+demo (67 features) - training accuracy: 0.867\n",
      "eeg+eog (116 features) - training accuracy: 0.882\n",
      "eeg+eog+demo (118 features) - training accuracy: 0.886\n",
      "eeg+eog+emg (149 features) - training accuracy: 0.890\n",
      "eeg+eog+emg+demo (151 features) - training accuracy: 0.893\n",
      "\n"
     ]
    }
   ],
   "source": [
    "# Parallel processing when building the trees.\n",
    "params['n_jobs'] = 12\n",
    "\n",
    "# Loop across combs of predictors\n",
    "for name, X in tqdm(X_all.items()):\n",
    "    \n",
    "    # Fit\n",
    "    clf = LGBMClassifier(**params)\n",
    "    clf.fit(X, y)\n",
    "\n",
    "    # Print the accuracy on the training dataset: shouldn't be too high..!\n",
    "    print(\"%s (%i features) - training accuracy: %.3f\" % \n",
    "        (name, X.shape[1], clf.score(X, y)))\n",
    "    \n",
    "    # Export trained classifier\n",
    "    if params['class_weight'] is not None:\n",
    "        fname = outdir + 'clf_%s_lgb_%s_%s.joblib' % \\\n",
    "        (name, params['boosting_type'], class_weight)\n",
    "    else:\n",
    "        fname = outdir + 'clf_%s_lgb_%s.joblib' % \\\n",
    "        (name, params['boosting_type'])\n",
    "        \n",
    "    # Export model\n",
    "    joblib.dump(clf, fname, compress=True)\n",
    "    \n",
    "    # Also save directly to YASA\n",
    "    # outdir_yasa = \"/Users/raphael/GitHub/yasa/yasa/classifiers/\"\n",
    "    # fname_yasa = outdir_yasa + 'clf_%s_lgb.joblib' % name\n",
    "    # joblib.dump(clf, fname_yasa, compress=True)\n",
    "    \n",
    "    # Features importance (full model only)\n",
    "    if name == \"eeg+eog+emg+demo\":\n",
    "        # Export LGBM feature importance\n",
    "        df_imp = pd.Series(clf.feature_importances_, index=clf.feature_name_, name='Importance').round()\n",
    "        df_imp.sort_values(ascending=False, inplace=True)\n",
    "        df_imp.index.name = 'Features'\n",
    "        df_imp.to_csv(fname[:-7] + \".csv\")\n",
    "\n",
    "        # Export SHAP feature importance\n",
    "        # Calculate SHAP values on a random sample of 25% of the training set\n",
    "        # We also limit the number of trees for speed\n",
    "        explainer = shap.TreeExplainer(clf)\n",
    "        shap_values = explainer.shap_values(X.sample(frac=0.25, random_state=42), tree_limit=100)\n",
    "        # Sum across all stages and then average across all samples\n",
    "        shap_sum = np.abs(shap_values).sum(axis=0).mean(axis=0)\n",
    "        df_shap = pd.Series(shap_sum, index=X.columns.tolist(), name=\"Importance\")\n",
    "        df_shap.sort_values(ascending=False, inplace=True)\n",
    "        df_shap.index.name = 'Features'\n",
    "        df_shap.to_csv(fname[:-7] + \"_shap.csv\")"
   ]
  },
  {
   "cell_type": "code",
   "execution_count": 23,
   "metadata": {},
   "outputs": [],
   "source": [
    "# from matplotlib import colors\n",
    "# cmap_stages = ['#99d7f1', '#009DDC', 'xkcd:twilight blue', 'xkcd:rich purple', 'xkcd:sunflower']\n",
    "# cmap = colors.ListedColormap(np.array(cmap_stages)[class_inds])\n",
    "# class_inds = np.argsort([-np.abs(shap_values[i]).mean() for i in range(len(shap_values))])\n",
    "# shap.summary_plot(shap_values, X, plot_type='bar', max_display=15, color=cmap, \n",
    "#                   class_names=clf.classes_)"
   ]
  }
 ],
 "metadata": {
  "kernelspec": {
   "display_name": "Python 3",
   "language": "python",
   "name": "python3"
  },
  "language_info": {
   "codemirror_mode": {
    "name": "ipython",
    "version": 3
   },
   "file_extension": ".py",
   "mimetype": "text/x-python",
   "name": "python",
   "nbconvert_exporter": "python",
   "pygments_lexer": "ipython3",
   "version": "3.8.3"
  }
 },
 "nbformat": 4,
 "nbformat_minor": 4
}
